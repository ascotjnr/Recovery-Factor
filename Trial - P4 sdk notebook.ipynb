{
    "cells": [
        {
            "cell_type": "markdown",
            "metadata": {},
            "source": "### IBM AutoAI-SDK Auto-Generated Notebook v1.13.0\n\n**Note:** Notebook code generated using AutoAI will execute successfully. If code is modified or reordered,   \nthere is no guarantee it will successfully execute. This pipeline is optimized for the original dataset.  \nThe pipeline may fail or produce sub-optimium results if used with different data. For different data,  \nplease consider returning to AutoAI Experiments to generate a new pipeline. Please read our documentation   \nfor more information:   \n<a href=\"https://dataplatform.cloud.ibm.com/docs/content/wsj/analyze-data/autoai-notebook.html\">Cloud Platform</a>  \n\n\nBefore modifying the pipeline or trying to re-fit the pipeline, consider:   \nThe notebook converts dataframes to numpy arrays before fitting the pipeline   \n(a current restriction of the preprocessor pipeline). The known_values_list is passed by reference   \nand populated with categorical values during fit of the preprocessing pipeline. Delete its members before re-fitting."
        },
        {
            "cell_type": "markdown",
            "metadata": {},
            "source": "<a id=\"content\"></a>\n## Notebook content\n\nThis notebook contains steps and code to demonstrate AutoAI pipeline. This notebook introduces commands for getting data,  \npipeline model, model inspection and testing.\n\nSome familiarity with Python is helpful. This notebook uses Python 3."
        },
        {
            "cell_type": "markdown",
            "metadata": {
                "pycharm": {
                    "name": "#%% md\n"
                }
            },
            "source": "## Notebook goals\n\n-  inspection of trained pipeline via graphical vizualization and source code preview\n-  pipeline evaluation\n-  pipeline deployment and webservice scoring.\n\n## Contents\n\nThis notebook contains the following parts:\n\n1.\t[Setup](#setup)         \n    a.  [AutoAI experiment metadata](#variables_definition)      \n2.\t[Pipeline inspection](#inspection)      \n    a.  [Get historical optimizer instance](#get_hist_and_train)      \n    b.  [Get pipeline model](#get_pipeline)      \n    c.  [Preview pipeline model as python code](#preview_model_to_python_code)      \n    d.  [Visualize pipeline model](#visualize_pipeline)      \n    e.  [Read training data](#train_read)        \n    f.  [Test pipeline model locally](#test_model)       \n3.\t[Pipeline refinery and testing (optional)](#refinery)\n    a.  [Pipeline definition source code](#pipeline_definition)      \n    b.  [Lale library](#lale_library)      \n4.\t[Deploy and score](#scoring)       \n    a.  [Insert WML credentials](#wml_credentials)   \n    b.  [Create deployment](#deployment)      \n    c.  [Score webservice](#online_scoring)        \n    d.  [Delete deployment](#delete_deployment)       \n5.  [Authors](#authors)      "
        },
        {
            "cell_type": "markdown",
            "metadata": {},
            "source": "<a id=\"setup\"></a>\n# Setup\n\nBefore you use the sample code in this notebook, you must perform the following setup tasks:\n - `watson-machine-learning-client` uninstallation of the old client\n - `watson-machine-learning-client-V4` installation\n - `autoai-libs` installation/upgrade\n - `lightgbm` or `xgboost` installation/downgrade if they are needed."
        },
        {
            "cell_type": "code",
            "execution_count": 1,
            "metadata": {
                "pycharm": {
                    "name": "#%%\n"
                }
            },
            "outputs": [
                {
                    "name": "stdout",
                    "output_type": "stream",
                    "text": "Uninstalling watson-machine-learning-client-1.0.378:\n  Successfully uninstalled watson-machine-learning-client-1.0.378\n"
                }
            ],
            "source": "!pip uninstall watson-machine-learning-client -y"
        },
        {
            "cell_type": "code",
            "execution_count": 2,
            "metadata": {
                "pycharm": {
                    "is_executing": false,
                    "name": "#%%\n"
                }
            },
            "outputs": [
                {
                    "name": "stdout",
                    "output_type": "stream",
                    "text": "Collecting watson-machine-learning-client-V4\n\u001b[?25l  Downloading https://files.pythonhosted.org/packages/c4/97/f7f9dbbd106ee1ba23ddb87f684f63fea77c099e3ab5aef504733671ce95/watson_machine_learning_client_V4-1.0.112-py3-none-any.whl (1.3MB)\n\u001b[K     |\u2588\u2588\u2588\u2588\u2588\u2588\u2588\u2588\u2588\u2588\u2588\u2588\u2588\u2588\u2588\u2588\u2588\u2588\u2588\u2588\u2588\u2588\u2588\u2588\u2588\u2588\u2588\u2588\u2588\u2588\u2588\u2588| 1.3MB 10.5MB/s eta 0:00:01\n\u001b[?25hRequirement already satisfied, skipping upgrade: pandas<=0.25.3 in /opt/conda/envs/Python36/lib/python3.6/site-packages (from watson-machine-learning-client-V4) (0.24.1)\nRequirement already satisfied, skipping upgrade: tabulate in /opt/conda/envs/Python36/lib/python3.6/site-packages (from watson-machine-learning-client-V4) (0.8.2)\nRequirement already satisfied, skipping upgrade: urllib3 in /opt/conda/envs/Python36/lib/python3.6/site-packages (from watson-machine-learning-client-V4) (1.24.1)\nRequirement already satisfied, skipping upgrade: certifi in /opt/conda/envs/Python36/lib/python3.6/site-packages (from watson-machine-learning-client-V4) (2020.6.20)\nRequirement already satisfied, skipping upgrade: lomond in /opt/conda/envs/Python36/lib/python3.6/site-packages (from watson-machine-learning-client-V4) (0.3.3)\nRequirement already satisfied, skipping upgrade: requests in /opt/conda/envs/Python36/lib/python3.6/site-packages (from watson-machine-learning-client-V4) (2.21.0)\nCollecting ibm-cos-sdk==2.6.0 (from watson-machine-learning-client-V4)\n\u001b[?25l  Downloading https://files.pythonhosted.org/packages/6f/91/86b2816c7b77d816b03a1ad6cf7db4b1f67556af395d5b93fdae6086c933/ibm-cos-sdk-2.6.0.tar.gz (53kB)\n\u001b[K     |\u2588\u2588\u2588\u2588\u2588\u2588\u2588\u2588\u2588\u2588\u2588\u2588\u2588\u2588\u2588\u2588\u2588\u2588\u2588\u2588\u2588\u2588\u2588\u2588\u2588\u2588\u2588\u2588\u2588\u2588\u2588\u2588| 61kB 26.8MB/s eta 0:00:01\n\u001b[?25hRequirement already satisfied, skipping upgrade: python-dateutil>=2.5.0 in /opt/conda/envs/Python36/lib/python3.6/site-packages (from pandas<=0.25.3->watson-machine-learning-client-V4) (2.7.5)\nRequirement already satisfied, skipping upgrade: numpy>=1.12.0 in /opt/conda/envs/Python36/lib/python3.6/site-packages (from pandas<=0.25.3->watson-machine-learning-client-V4) (1.15.4)\nRequirement already satisfied, skipping upgrade: pytz>=2011k in /opt/conda/envs/Python36/lib/python3.6/site-packages (from pandas<=0.25.3->watson-machine-learning-client-V4) (2018.9)\nRequirement already satisfied, skipping upgrade: six>=1.10.0 in /opt/conda/envs/Python36/lib/python3.6/site-packages (from lomond->watson-machine-learning-client-V4) (1.12.0)\nRequirement already satisfied, skipping upgrade: chardet<3.1.0,>=3.0.2 in /opt/conda/envs/Python36/lib/python3.6/site-packages (from requests->watson-machine-learning-client-V4) (3.0.4)\nRequirement already satisfied, skipping upgrade: idna<2.9,>=2.5 in /opt/conda/envs/Python36/lib/python3.6/site-packages (from requests->watson-machine-learning-client-V4) (2.8)\nCollecting ibm-cos-sdk-core==2.6.0 (from ibm-cos-sdk==2.6.0->watson-machine-learning-client-V4)\n\u001b[?25l  Downloading https://files.pythonhosted.org/packages/ea/c1/c823507c472bf88dbd045445df6850744111d34fd218c6ea3b9c9bde2cfe/ibm-cos-sdk-core-2.6.0.tar.gz (763kB)\n\u001b[K     |\u2588\u2588\u2588\u2588\u2588\u2588\u2588\u2588\u2588\u2588\u2588\u2588\u2588\u2588\u2588\u2588\u2588\u2588\u2588\u2588\u2588\u2588\u2588\u2588\u2588\u2588\u2588\u2588\u2588\u2588\u2588\u2588| 768kB 38.2MB/s eta 0:00:01\n\u001b[?25hCollecting ibm-cos-sdk-s3transfer==2.6.0 (from ibm-cos-sdk==2.6.0->watson-machine-learning-client-V4)\n\u001b[?25l  Downloading https://files.pythonhosted.org/packages/6f/92/682a28b99777a3fdc65e6d5641ed7e1ca470d0eab3bb2826cc30c6b60e21/ibm-cos-sdk-s3transfer-2.6.0.tar.gz (221kB)\n\u001b[K     |\u2588\u2588\u2588\u2588\u2588\u2588\u2588\u2588\u2588\u2588\u2588\u2588\u2588\u2588\u2588\u2588\u2588\u2588\u2588\u2588\u2588\u2588\u2588\u2588\u2588\u2588\u2588\u2588\u2588\u2588\u2588\u2588| 225kB 39.6MB/s eta 0:00:01\n\u001b[?25hRequirement already satisfied, skipping upgrade: jmespath<1.0.0,>=0.7.1 in /opt/conda/envs/Python36/lib/python3.6/site-packages (from ibm-cos-sdk==2.6.0->watson-machine-learning-client-V4) (0.9.3)\nRequirement already satisfied, skipping upgrade: docutils<0.16,>=0.10 in /opt/conda/envs/Python36/lib/python3.6/site-packages (from ibm-cos-sdk-core==2.6.0->ibm-cos-sdk==2.6.0->watson-machine-learning-client-V4) (0.14)\nBuilding wheels for collected packages: ibm-cos-sdk, ibm-cos-sdk-core, ibm-cos-sdk-s3transfer\n  Building wheel for ibm-cos-sdk (setup.py) ... \u001b[?25ldone\n\u001b[?25h  Stored in directory: /home/dsxuser/.cache/pip/wheels/37/9c/c4/a2c610ccb877d37c2cb87a5bfe55845fecffd6bb01bcd5e9d5\n  Building wheel for ibm-cos-sdk-core (setup.py) ... \u001b[?25ldone\n\u001b[?25h  Stored in directory: /home/dsxuser/.cache/pip/wheels/75/93/e6/23071b2c037147a0993d34b64a03e51abca84435fc9cd6a278\n  Building wheel for ibm-cos-sdk-s3transfer (setup.py) ... \u001b[?25ldone\n\u001b[?25h  Stored in directory: /home/dsxuser/.cache/pip/wheels/23/d9/d7/43fd95b014eed89466154d8373bf4cffbb3d972de7841e213c\nSuccessfully built ibm-cos-sdk ibm-cos-sdk-core ibm-cos-sdk-s3transfer\nInstalling collected packages: ibm-cos-sdk-core, ibm-cos-sdk-s3transfer, ibm-cos-sdk, watson-machine-learning-client-V4\n  Found existing installation: ibm-cos-sdk-core 2.4.3\n    Uninstalling ibm-cos-sdk-core-2.4.3:\n      Successfully uninstalled ibm-cos-sdk-core-2.4.3\n  Found existing installation: ibm-cos-sdk-s3transfer 2.4.3\n    Uninstalling ibm-cos-sdk-s3transfer-2.4.3:\n      Successfully uninstalled ibm-cos-sdk-s3transfer-2.4.3\n  Found existing installation: ibm-cos-sdk 2.4.3\n    Uninstalling ibm-cos-sdk-2.4.3:\n      Successfully uninstalled ibm-cos-sdk-2.4.3\nSuccessfully installed ibm-cos-sdk-2.6.0 ibm-cos-sdk-core-2.6.0 ibm-cos-sdk-s3transfer-2.6.0 watson-machine-learning-client-V4-1.0.112\n"
                }
            ],
            "source": "!pip install -U watson-machine-learning-client-V4"
        },
        {
            "cell_type": "code",
            "execution_count": 3,
            "metadata": {
                "pycharm": {
                    "name": "#%%\n"
                }
            },
            "outputs": [
                {
                    "name": "stdout",
                    "output_type": "stream",
                    "text": "Collecting autoai-libs\n\u001b[?25l  Downloading https://files.pythonhosted.org/packages/08/79/2e418d224b1da532f0e98e80c62c874363105a5d1eac2d3fb6a8e6b273ef/autoai_libs-1.11.1-40-cp36-cp36m-manylinux1_x86_64.whl (4.1MB)\n\u001b[K     |\u2588\u2588\u2588\u2588\u2588\u2588\u2588\u2588\u2588\u2588\u2588\u2588\u2588\u2588\u2588\u2588\u2588\u2588\u2588\u2588\u2588\u2588\u2588\u2588\u2588\u2588\u2588\u2588\u2588\u2588\u2588\u2588| 4.1MB 9.5MB/s eta 0:00:01\n\u001b[?25hCollecting pandas<1.0.0,>=0.24.2 (from autoai-libs)\n\u001b[?25l  Downloading https://files.pythonhosted.org/packages/52/3f/f6a428599e0d4497e1595030965b5ba455fd8ade6e977e3c819973c4b41d/pandas-0.25.3-cp36-cp36m-manylinux1_x86_64.whl (10.4MB)\n\u001b[K     |\u2588\u2588\u2588\u2588\u2588\u2588\u2588\u2588\u2588\u2588\u2588\u2588\u2588\u2588\u2588\u2588\u2588\u2588\u2588\u2588\u2588\u2588\u2588\u2588\u2588\u2588\u2588\u2588\u2588\u2588\u2588\u2588| 10.4MB 55.5MB/s eta 0:00:01\n\u001b[?25hRequirement already satisfied, skipping upgrade: scikit-learn<0.24.0,>=0.20.3 in /opt/conda/envs/Python36/lib/python3.6/site-packages (from autoai-libs) (0.20.3)\nCollecting numpy>=1.16.4 (from autoai-libs)\n\u001b[?25l  Downloading https://files.pythonhosted.org/packages/b1/9a/7d474ba0860a41f771c9523d8c4ea56b084840b5ca4092d96bdee8a3b684/numpy-1.19.1-cp36-cp36m-manylinux2010_x86_64.whl (14.5MB)\n\u001b[K     |\u2588\u2588\u2588\u2588\u2588\u2588\u2588\u2588\u2588\u2588\u2588\u2588\u2588\u2588\u2588\u2588\u2588\u2588\u2588\u2588\u2588\u2588\u2588\u2588\u2588\u2588\u2588\u2588\u2588\u2588\u2588\u2588| 14.5MB 59.3MB/s eta 0:00:01\n\u001b[?25hRequirement already satisfied, skipping upgrade: pytz>=2017.2 in /opt/conda/envs/Python36/lib/python3.6/site-packages (from pandas<1.0.0,>=0.24.2->autoai-libs) (2018.9)\nRequirement already satisfied, skipping upgrade: python-dateutil>=2.6.1 in /opt/conda/envs/Python36/lib/python3.6/site-packages (from pandas<1.0.0,>=0.24.2->autoai-libs) (2.7.5)\nRequirement already satisfied, skipping upgrade: scipy>=0.13.3 in /opt/conda/envs/Python36/lib/python3.6/site-packages (from scikit-learn<0.24.0,>=0.20.3->autoai-libs) (1.2.0)\nRequirement already satisfied, skipping upgrade: six>=1.5 in /opt/conda/envs/Python36/lib/python3.6/site-packages (from python-dateutil>=2.6.1->pandas<1.0.0,>=0.24.2->autoai-libs) (1.12.0)\n\u001b[31mERROR: tensorflow 1.13.1 requires tensorboard<1.14.0,>=1.13.0, which is not installed.\u001b[0m\nInstalling collected packages: numpy, pandas, autoai-libs\n  Found existing installation: numpy 1.15.4\n    Uninstalling numpy-1.15.4:\n      Successfully uninstalled numpy-1.15.4\n  Found existing installation: pandas 0.24.1\n    Uninstalling pandas-0.24.1:\n      Successfully uninstalled pandas-0.24.1\n  Found existing installation: autoai-libs 1.10.5\n    Uninstalling autoai-libs-1.10.5:\n      Successfully uninstalled autoai-libs-1.10.5\nSuccessfully installed autoai-libs-1.11.1 numpy-1.19.1 pandas-0.25.3\nCollecting xgboost==0.90\n\u001b[?25l  Downloading https://files.pythonhosted.org/packages/c1/24/5fe7237b2eca13ee0cfb100bec8c23f4e69ce9df852a64b0493d49dae4e0/xgboost-0.90-py2.py3-none-manylinux1_x86_64.whl (142.8MB)\n\u001b[K     |\u2588\u2588\u2588\u2588\u2588\u2588\u2588\u2588\u2588\u2588\u2588\u2588\u2588\u2588\u2588\u2588\u2588\u2588\u2588\u2588\u2588\u2588\u2588\u2588\u2588\u2588\u2588\u2588\u2588\u2588\u2588\u2588| 142.8MB 84.2MB/s eta 0:00:01\n\u001b[?25hRequirement already satisfied, skipping upgrade: numpy in /opt/conda/envs/Python36/lib/python3.6/site-packages (from xgboost==0.90) (1.19.1)\nRequirement already satisfied, skipping upgrade: scipy in /opt/conda/envs/Python36/lib/python3.6/site-packages (from xgboost==0.90) (1.2.0)\nInstalling collected packages: xgboost\nSuccessfully installed xgboost-0.90\n"
                }
            ],
            "source": "!pip install -U autoai-libs\n!pip install -U xgboost==0.90"
        },
        {
            "cell_type": "markdown",
            "metadata": {},
            "source": "<a id=\"variables_definition\"></a>\n### AutoAI experiment metadata\n\nThis cell defines COS credentials required to retrieve AutoAI pipeline."
        },
        {
            "cell_type": "code",
            "execution_count": 3,
            "metadata": {
                "pycharm": {
                    "name": "#%%\n"
                }
            },
            "outputs": [],
            "source": "# The code was removed by Watson Studio for sharing."
        },
        {
            "cell_type": "markdown",
            "metadata": {},
            "source": "Following cell contains input parameters provided to run the AutoAI experiment in Watson Studio"
        },
        {
            "cell_type": "code",
            "execution_count": 4,
            "metadata": {
                "pycharm": {
                    "name": "#%%\n"
                }
            },
            "outputs": [],
            "source": "experiment_metadata = dict(\n   prediction_type='regression',\n   prediction_column='RF',\n   test_size=0.15,\n   scoring='neg_root_mean_squared_error',\n   csv_separator=',',\n   random_state=33,\n   excel_sheet=0,\n   max_number_of_estimators=3,\n   training_data_reference = training_data_reference,\n   training_result_reference = training_result_reference)\n\npipeline_name='Pipeline_4'"
        },
        {
            "cell_type": "markdown",
            "metadata": {
                "pycharm": {
                    "name": "#%% md\n"
                }
            },
            "source": "<a id=\"inspection\"></a>\n## Pipeline inspection\nIn this section you will get the trained pipeline model from the AutoAI experiment and inspect it.  \nYou will see pipeline as a pythone code, graphically visualized and at the end, you will perform a local test.\n"
        },
        {
            "cell_type": "markdown",
            "metadata": {
                "pycharm": {
                    "name": "#%% md\n"
                }
            },
            "source": "<a id=\"get_hist_and_train\"></a>\n### Get historical optimizer instance\n\nThe next cell contains code for retrieving fitted optimizer."
        },
        {
            "cell_type": "code",
            "execution_count": 5,
            "metadata": {
                "pycharm": {
                    "is_executing": false,
                    "name": "#%%\n"
                }
            },
            "outputs": [
                {
                    "name": "stdout",
                    "output_type": "stream",
                    "text": "Warning: To use AutoAI with xgboost estimators, you need to have xgboost 0.90 installed.\nWarning: To use AutoAI with lightgbm estimators, you need to have lightgbm 2.2.3 installed.\nWarning: To use AutoAI, you need to have numpy 1.18.2 installed.\n"
                }
            ],
            "source": "from watson_machine_learning_client.experiment import AutoAI\n\noptimizer = AutoAI().runs.get_optimizer(metadata=experiment_metadata)"
        },
        {
            "cell_type": "markdown",
            "metadata": {
                "pycharm": {
                    "name": "#%% md\n"
                }
            },
            "source": "<a id=\"get_pipeline\"></a>\n### Get pipeline model\n\nThe following cell loads selected AutoAI pipeline model. If you want to get pure scikit-learn pipeline specify `as_type='sklearn'` parameter. By default enriched scikit-learn pipeline is returned `as_type='lale'`."
        },
        {
            "cell_type": "code",
            "execution_count": 6,
            "metadata": {
                "pycharm": {
                    "is_executing": false,
                    "name": "#%%\n"
                }
            },
            "outputs": [],
            "source": "pipeline_model = optimizer.get_pipeline(pipeline_name=pipeline_name)"
        },
        {
            "cell_type": "markdown",
            "metadata": {
                "pycharm": {
                    "name": "#%% md\n"
                }
            },
            "source": "<a id=\"preview_model_to_python_code\"></a>\n### Preview pipeline model as python code\nIn the next cell, downloaded pipeline model could be previewed as a python code.  \nYou will be able to see what exact steps are involved in model creation."
        },
        {
            "cell_type": "code",
            "execution_count": 8,
            "metadata": {
                "pycharm": {
                    "name": "#%%\n"
                }
            },
            "outputs": [
                {
                    "data": {
                        "text/markdown": "```python\nfrom autoai_libs.transformers.exportable import ColumnSelector\nfrom lale.lib.autoai_libs import NumpyColumnSelector\nfrom lale.lib.autoai_libs import FloatStr2Float\nfrom lale.lib.autoai_libs import NumpyReplaceMissingValues\nfrom lale.lib.autoai_libs import NumImputer\nfrom lale.lib.autoai_libs import OptStandardScaler\nfrom lale.lib.autoai_libs import float32_transform\nfrom lale.lib.autoai_libs import TA2\nimport numpy as np\nimport autoai_libs.utils.fc_methods\nfrom lale.lib.autoai_libs import FS1\nfrom xgboost import XGBRegressor\nfrom lale.operators import make_pipeline\n\ncolumn_selector = ColumnSelector(columns_indices_list=[1, 2, 3, 4, 5, 6, 7, 8])\nnumpy_column_selector = NumpyColumnSelector(columns=[0, 1, 2, 3, 4, 5, 6, 7])\nfloat_str2_float = FloatStr2Float(dtypes_list=['float_num', 'float_int_num', 'float_num', 'float_int_num', 'float_num', 'float_int_num', 'float_int_num', 'float_int_num'], missing_values_reference_list=[])\nnumpy_replace_missing_values = NumpyReplaceMissingValues(filling_values=float('nan'), missing_values=[])\nnum_imputer = NumImputer(missing_values=float('nan'), strategy='median')\nopt_standard_scaler = OptStandardScaler(num_scaler_copy=None, num_scaler_with_mean=None, num_scaler_with_std=None, use_scaler_flag=False)\nta2_0 = TA2(fun=np.multiply, name='product', datatypes1=['intc', 'intp', 'int_', 'uint8', 'uint16', 'uint32', 'uint64', 'int8', 'int16', 'int32', 'int64', 'short', 'long', 'longlong', 'float16', 'float32', 'float64'], feat_constraints1=[autoai_libs.utils.fc_methods.is_not_categorical], datatypes2=['intc', 'intp', 'int_', 'uint8', 'uint16', 'uint32', 'uint64', 'int8', 'int16', 'int32', 'int64', 'short', 'long', 'longlong', 'float16', 'float32', 'float64'], feat_constraints2=[autoai_libs.utils.fc_methods.is_not_categorical], col_names=['K', 'T', 'API', 'Pi', 'Uoi, cp', 'Rsi', 'OOIP', 'Produced'], col_dtypes=[np.dtype('float32'), np.dtype('float32'), np.dtype('float32'), np.dtype('float32'), np.dtype('float32'), np.dtype('float32'), np.dtype('float32'), np.dtype('float32')])\nfs1_0 = FS1(cols_ids_must_keep=range(0, 8), additional_col_count_to_keep=8, ptype='regression')\nta2_1 = TA2(fun=np.true_divide, name='divide', datatypes1=['intc', 'intp', 'int_', 'uint8', 'uint16', 'uint32', 'uint64', 'int8', 'int16', 'int32', 'int64', 'short', 'long', 'longlong', 'float16', 'float32', 'float64'], feat_constraints1=[autoai_libs.utils.fc_methods.is_not_categorical], datatypes2=['intc', 'intp', 'int_', 'uint8', 'uint16', 'uint32', 'uint64', 'int8', 'int16', 'int32', 'int64', 'short', 'long', 'longlong', 'float16', 'float32', 'float64'], feat_constraints2=[autoai_libs.utils.fc_methods.is_not_categorical], col_names=['K', 'T', 'API', 'Pi', 'Uoi, cp', 'Rsi', 'OOIP', 'Produced', 'product(T__Produced)', 'product(API__Produced)', 'product(Pi__Produced)', 'product(Rsi__Produced)', 'product(Produced__T)', 'product(Produced__API)', 'product(Produced__Pi)', 'product(Produced__Rsi)'], col_dtypes=[np.dtype('float32'), np.dtype('float32'), np.dtype('float32'), np.dtype('float32'), np.dtype('float32'), np.dtype('float32'), np.dtype('float32'), np.dtype('float32'), np.dtype('float32'), np.dtype('float32'), np.dtype('float32'), np.dtype('float32'), np.dtype('float32'), np.dtype('float32'), np.dtype('float32'), np.dtype('float32')])\nfs1_1 = FS1(cols_ids_must_keep=range(0, 8), additional_col_count_to_keep=8, ptype='regression')\nxgb_regressor = XGBRegressor(learning_rate=0.04539783288295145, max_depth=2, min_child_weight=2, missing=float('nan'), n_estimators=1399, random_state=33, reg_alpha=0.006189567604077665, reg_lambda=0.6696073626806818, subsample=0.9924292248704613)\npipeline = make_pipeline(column_selector, numpy_column_selector, float_str2_float, numpy_replace_missing_values, num_imputer, opt_standard_scaler, float32_transform(), ta2_0, fs1_0, ta2_1, fs1_1, xgb_regressor)\n```",
                        "text/plain": "<IPython.core.display.Markdown object>"
                    },
                    "metadata": {},
                    "output_type": "display_data"
                }
            ],
            "source": "pipeline_model.pretty_print(combinators=False, ipython_display=True)"
        },
        {
            "cell_type": "markdown",
            "metadata": {
                "pycharm": {
                    "name": "#%% md\n"
                }
            },
            "source": "<a id=\"visualize_pipeline\"></a>\n### Visualize pipeline model\n\nPreview pipeline model stages as graph. Each node's name links to detailed description of the stage.\n"
        },
        {
            "cell_type": "code",
            "execution_count": 9,
            "metadata": {
                "pycharm": {
                    "is_executing": false,
                    "name": "#%%\n"
                }
            },
            "outputs": [
                {
                    "data": {
                        "image/svg+xml": "<?xml version=\"1.0\" encoding=\"UTF-8\" standalone=\"no\"?>\n<!DOCTYPE svg PUBLIC \"-//W3C//DTD SVG 1.1//EN\"\n \"http://www.w3.org/Graphics/SVG/1.1/DTD/svg11.dtd\">\n<!-- Generated by graphviz version 2.40.1 (20161225.0304)\n -->\n<!-- Title: cluster:(root) Pages: 1 -->\n<svg width=\"1263pt\" height=\"82pt\"\n viewBox=\"0.00 0.00 1263.47 81.54\" xmlns=\"http://www.w3.org/2000/svg\" xmlns:xlink=\"http://www.w3.org/1999/xlink\">\n<g id=\"graph0\" class=\"graph\" transform=\"scale(1 1) rotate(0) translate(4 77.5391)\">\n<title>cluster:(root)</title>\n<g id=\"a_graph0\"><a xlink:title=\"(root) = ...\">\n<polygon fill=\"#ffffff\" stroke=\"transparent\" points=\"-4,4 -4,-77.5391 1259.4672,-77.5391 1259.4672,4 -4,4\"/>\n</a>\n</g>\n<!-- column_selector -->\n<g id=\"node1\" class=\"node\">\n<title>column_selector</title>\n<g id=\"a_node1\"><a xlink:title=\"column_selector = ColumnSelector(columns_indices_list=[1, 2, 3, 4, 5, 6, 7, 8])\">\n<ellipse fill=\"#ffffff\" stroke=\"#000000\" cx=\"39.598\" cy=\"-36.7696\" rx=\"39.6962\" ry=\"19.6\"/>\n<text text-anchor=\"middle\" x=\"39.598\" y=\"-39.9696\" font-family=\"Times,serif\" font-size=\"11.00\" fill=\"#000000\">Column&#45;</text>\n<text text-anchor=\"middle\" x=\"39.598\" y=\"-27.9696\" font-family=\"Times,serif\" font-size=\"11.00\" fill=\"#000000\">Selector</text>\n</a>\n</g>\n</g>\n<!-- numpy_column_selector -->\n<g id=\"node2\" class=\"node\">\n<title>numpy_column_selector</title>\n<g id=\"a_node2\"><a xlink:href=\"https://lale.readthedocs.io/en/latest/modules/lale.lib.autoai_libs.numpy_column_selector.html\" xlink:title=\"numpy_column_selector = NumpyColumnSelector(columns=[0, 1, 2, 3, 4, 5, 6, 7])\">\n<ellipse fill=\"#ffffff\" stroke=\"#000000\" cx=\"154.7939\" cy=\"-36.7696\" rx=\"39.6962\" ry=\"28.0702\"/>\n<text text-anchor=\"middle\" x=\"154.7939\" y=\"-45.9696\" font-family=\"Times,serif\" font-size=\"11.00\" fill=\"#000000\">Numpy&#45;</text>\n<text text-anchor=\"middle\" x=\"154.7939\" y=\"-33.9696\" font-family=\"Times,serif\" font-size=\"11.00\" fill=\"#000000\">Column&#45;</text>\n<text text-anchor=\"middle\" x=\"154.7939\" y=\"-21.9696\" font-family=\"Times,serif\" font-size=\"11.00\" fill=\"#000000\">Selector</text>\n</a>\n</g>\n</g>\n<!-- column_selector&#45;&gt;numpy_column_selector -->\n<g id=\"edge1\" class=\"edge\">\n<title>column_selector&#45;&gt;numpy_column_selector</title>\n<path fill=\"none\" stroke=\"#000000\" d=\"M79.2419,-36.7696C87.4778,-36.7696 96.258,-36.7696 104.8101,-36.7696\"/>\n<polygon fill=\"#000000\" stroke=\"#000000\" points=\"105.077,-40.2697 115.077,-36.7696 105.0769,-33.2697 105.077,-40.2697\"/>\n</g>\n<!-- float_str2_float -->\n<g id=\"node3\" class=\"node\">\n<title>float_str2_float</title>\n<g id=\"a_node3\"><a xlink:href=\"https://lale.readthedocs.io/en/latest/modules/lale.lib.autoai_libs.float_str2_float.html\" xlink:title=\"float_str2_float = FloatStr2Float(dtypes_list=[&#39;float_num&#39;, &#39;float_int_num&#39;, &#39;float_num&#39;, &#39;float_int_num&#39;, &#39;float_num&#39;, &#39;float_int_num&#39;, &#39;float_int_num&#39;, &#39;float_int_num&#39;], missing_values_reference_list=[])\">\n<ellipse fill=\"#ffffff\" stroke=\"#000000\" cx=\"258.6762\" cy=\"-36.7696\" rx=\"28.0702\" ry=\"28.0702\"/>\n<text text-anchor=\"middle\" x=\"258.6762\" y=\"-45.9696\" font-family=\"Times,serif\" font-size=\"11.00\" fill=\"#000000\">Float&#45;</text>\n<text text-anchor=\"middle\" x=\"258.6762\" y=\"-33.9696\" font-family=\"Times,serif\" font-size=\"11.00\" fill=\"#000000\">Str2&#45;</text>\n<text text-anchor=\"middle\" x=\"258.6762\" y=\"-21.9696\" font-family=\"Times,serif\" font-size=\"11.00\" fill=\"#000000\">Float</text>\n</a>\n</g>\n</g>\n<!-- numpy_column_selector&#45;&gt;float_str2_float -->\n<g id=\"edge2\" class=\"edge\">\n<title>numpy_column_selector&#45;&gt;float_str2_float</title>\n<path fill=\"none\" stroke=\"#000000\" d=\"M194.6604,-36.7696C203.0285,-36.7696 211.8392,-36.7696 220.1569,-36.7696\"/>\n<polygon fill=\"#000000\" stroke=\"#000000\" points=\"220.3586,-40.2697 230.3585,-36.7696 220.3585,-33.2697 220.3586,-40.2697\"/>\n</g>\n<!-- numpy_replace_missing_values -->\n<g id=\"node4\" class=\"node\">\n<title>numpy_replace_missing_values</title>\n<g id=\"a_node4\"><a xlink:href=\"https://lale.readthedocs.io/en/latest/modules/lale.lib.autoai_libs.numpy_replace_missing_values.html\" xlink:title=\"numpy_replace_missing_values = NumpyReplaceMissingValues(filling_values=float(&#39;nan&#39;), missing_values=[])\">\n<ellipse fill=\"#ffffff\" stroke=\"#000000\" cx=\"362.5584\" cy=\"-36.7696\" rx=\"39.6962\" ry=\"36.5405\"/>\n<text text-anchor=\"middle\" x=\"362.5584\" y=\"-51.9696\" font-family=\"Times,serif\" font-size=\"11.00\" fill=\"#000000\">Numpy&#45;</text>\n<text text-anchor=\"middle\" x=\"362.5584\" y=\"-39.9696\" font-family=\"Times,serif\" font-size=\"11.00\" fill=\"#000000\">Replace&#45;</text>\n<text text-anchor=\"middle\" x=\"362.5584\" y=\"-27.9696\" font-family=\"Times,serif\" font-size=\"11.00\" fill=\"#000000\">Missing&#45;</text>\n<text text-anchor=\"middle\" x=\"362.5584\" y=\"-15.9696\" font-family=\"Times,serif\" font-size=\"11.00\" fill=\"#000000\">Values</text>\n</a>\n</g>\n</g>\n<!-- float_str2_float&#45;&gt;numpy_replace_missing_values -->\n<g id=\"edge3\" class=\"edge\">\n<title>float_str2_float&#45;&gt;numpy_replace_missing_values</title>\n<path fill=\"none\" stroke=\"#000000\" d=\"M287.0625,-36.7696C295.0072,-36.7696 303.8847,-36.7696 312.683,-36.7696\"/>\n<polygon fill=\"#000000\" stroke=\"#000000\" points=\"312.9146,-40.2697 322.9145,-36.7696 312.9145,-33.2697 312.9146,-40.2697\"/>\n</g>\n<!-- num_imputer -->\n<g id=\"node5\" class=\"node\">\n<title>num_imputer</title>\n<g id=\"a_node5\"><a xlink:href=\"https://lale.readthedocs.io/en/latest/modules/lale.lib.autoai_libs.num_imputer.html\" xlink:title=\"num_imputer = NumImputer(missing_values=float(&#39;nan&#39;), strategy=&#39;median&#39;)\">\n<ellipse fill=\"#ffffff\" stroke=\"#000000\" cx=\"476.3402\" cy=\"-36.7696\" rx=\"38.3684\" ry=\"19.6\"/>\n<text text-anchor=\"middle\" x=\"476.3402\" y=\"-39.9696\" font-family=\"Times,serif\" font-size=\"11.00\" fill=\"#000000\">Num&#45;</text>\n<text text-anchor=\"middle\" x=\"476.3402\" y=\"-27.9696\" font-family=\"Times,serif\" font-size=\"11.00\" fill=\"#000000\">Imputer</text>\n</a>\n</g>\n</g>\n<!-- numpy_replace_missing_values&#45;&gt;num_imputer -->\n<g id=\"edge4\" class=\"edge\">\n<title>numpy_replace_missing_values&#45;&gt;num_imputer</title>\n<path fill=\"none\" stroke=\"#000000\" d=\"M402.3538,-36.7696C410.5546,-36.7696 419.2779,-36.7696 427.7502,-36.7696\"/>\n<polygon fill=\"#000000\" stroke=\"#000000\" points=\"427.9082,-40.2697 437.9081,-36.7696 427.9081,-33.2697 427.9082,-40.2697\"/>\n</g>\n<!-- opt_standard_scaler -->\n<g id=\"node6\" class=\"node\">\n<title>opt_standard_scaler</title>\n<g id=\"a_node6\"><a xlink:href=\"https://lale.readthedocs.io/en/latest/modules/lale.lib.autoai_libs.opt_standard_scaler.html\" xlink:title=\"opt_standard_scaler = OptStandardScaler(num_scaler_copy=None, num_scaler_with_mean=None, num_scaler_with_std=None, use_scaler_flag=False)\">\n<ellipse fill=\"#ffffff\" stroke=\"#000000\" cx=\"596.4859\" cy=\"-36.7696\" rx=\"45.9239\" ry=\"28.0702\"/>\n<text text-anchor=\"middle\" x=\"596.4859\" y=\"-45.9696\" font-family=\"Times,serif\" font-size=\"11.00\" fill=\"#000000\">Opt&#45;</text>\n<text text-anchor=\"middle\" x=\"596.4859\" y=\"-33.9696\" font-family=\"Times,serif\" font-size=\"11.00\" fill=\"#000000\">Standard&#45;</text>\n<text text-anchor=\"middle\" x=\"596.4859\" y=\"-21.9696\" font-family=\"Times,serif\" font-size=\"11.00\" fill=\"#000000\">Scaler</text>\n</a>\n</g>\n</g>\n<!-- num_imputer&#45;&gt;opt_standard_scaler -->\n<g id=\"edge5\" class=\"edge\">\n<title>num_imputer&#45;&gt;opt_standard_scaler</title>\n<path fill=\"none\" stroke=\"#000000\" d=\"M514.6854,-36.7696C522.7804,-36.7696 531.4838,-36.7696 540.0864,-36.7696\"/>\n<polygon fill=\"#000000\" stroke=\"#000000\" points=\"540.0962,-40.2697 550.0962,-36.7696 540.0962,-33.2697 540.0962,-40.2697\"/>\n</g>\n<!-- float32_transform -->\n<g id=\"node7\" class=\"node\">\n<title>float32_transform</title>\n<g id=\"a_node7\"><a xlink:href=\"https://lale.readthedocs.io/en/latest/modules/lale.lib.autoai_libs.float32_transform.html\" xlink:title=\"float32_transform = float32_transform()\">\n<ellipse fill=\"#ffffff\" stroke=\"#000000\" cx=\"723.7027\" cy=\"-36.7696\" rx=\"45.011\" ry=\"19.6\"/>\n<text text-anchor=\"middle\" x=\"723.7027\" y=\"-39.9696\" font-family=\"Times,serif\" font-size=\"11.00\" fill=\"#000000\">float32_&#45;</text>\n<text text-anchor=\"middle\" x=\"723.7027\" y=\"-27.9696\" font-family=\"Times,serif\" font-size=\"11.00\" fill=\"#000000\">transform</text>\n</a>\n</g>\n</g>\n<!-- opt_standard_scaler&#45;&gt;float32_transform -->\n<g id=\"edge6\" class=\"edge\">\n<title>opt_standard_scaler&#45;&gt;float32_transform</title>\n<path fill=\"none\" stroke=\"#000000\" d=\"M642.7739,-36.7696C650.9562,-36.7696 659.5523,-36.7696 667.9622,-36.7696\"/>\n<polygon fill=\"#000000\" stroke=\"#000000\" points=\"668.0876,-40.2697 678.0875,-36.7696 668.0875,-33.2697 668.0876,-40.2697\"/>\n</g>\n<!-- ta2_0 -->\n<g id=\"node8\" class=\"node\">\n<title>ta2_0</title>\n<g id=\"a_node8\"><a xlink:href=\"https://lale.readthedocs.io/en/latest/modules/lale.lib.autoai_libs.ta2.html\" xlink:title=\"ta2_0 = TA2(fun=np.multiply, name=&#39;product&#39;, datatypes1=[&#39;intc&#39;, &#39;intp&#39;, &#39;int_&#39;, &#39;uint8&#39;, &#39;uint16&#39;, &#39;uint32&#39;, &#39;uint64&#39;, &#39;int8&#39;, &#39;int16&#39;, &#39;int32&#39;, &#39;int64&#39;, &#39;short&#39;, &#39;long&#39;, &#39;longlong&#39;, &#39;float16&#39;, &#39;float32&#39;, &#39;float64&#39;], feat_constraints1=[autoai_libs.utils.fc_method...)\">\n<ellipse fill=\"#ffffff\" stroke=\"#000000\" cx=\"831.9575\" cy=\"-36.7696\" rx=\"27\" ry=\"18\"/>\n<text text-anchor=\"middle\" x=\"831.9575\" y=\"-33.9696\" font-family=\"Times,serif\" font-size=\"11.00\" fill=\"#000000\">TA2</text>\n</a>\n</g>\n</g>\n<!-- float32_transform&#45;&gt;ta2_0 -->\n<g id=\"edge7\" class=\"edge\">\n<title>float32_transform&#45;&gt;ta2_0</title>\n<path fill=\"none\" stroke=\"#000000\" d=\"M768.9852,-36.7696C777.5402,-36.7696 786.3982,-36.7696 794.673,-36.7696\"/>\n<polygon fill=\"#000000\" stroke=\"#000000\" points=\"794.7756,-40.2697 804.7756,-36.7696 794.7756,-33.2697 794.7756,-40.2697\"/>\n</g>\n<!-- fs1_0 -->\n<g id=\"node9\" class=\"node\">\n<title>fs1_0</title>\n<g id=\"a_node9\"><a xlink:href=\"https://lale.readthedocs.io/en/latest/modules/lale.lib.autoai_libs.fs1.html\" xlink:title=\"fs1_0 = FS1(cols_ids_must_keep=range(0, 8), additional_col_count_to_keep=8, ptype=&#39;regression&#39;)\">\n<ellipse fill=\"#ffffff\" stroke=\"#000000\" cx=\"921.9575\" cy=\"-36.7696\" rx=\"27\" ry=\"18\"/>\n<text text-anchor=\"middle\" x=\"921.9575\" y=\"-33.9696\" font-family=\"Times,serif\" font-size=\"11.00\" fill=\"#000000\">FS1</text>\n</a>\n</g>\n</g>\n<!-- ta2_0&#45;&gt;fs1_0 -->\n<g id=\"edge8\" class=\"edge\">\n<title>ta2_0&#45;&gt;fs1_0</title>\n<path fill=\"none\" stroke=\"#000000\" d=\"M858.9605,-36.7696C866.9852,-36.7696 875.924,-36.7696 884.4884,-36.7696\"/>\n<polygon fill=\"#000000\" stroke=\"#000000\" points=\"884.6626,-40.2697 894.6625,-36.7696 884.6625,-33.2697 884.6626,-40.2697\"/>\n</g>\n<!-- ta2_1 -->\n<g id=\"node10\" class=\"node\">\n<title>ta2_1</title>\n<g id=\"a_node10\"><a xlink:href=\"https://lale.readthedocs.io/en/latest/modules/lale.lib.autoai_libs.ta2.html\" xlink:title=\"ta2_1 = TA2(fun=np.true_divide, name=&#39;divide&#39;, datatypes1=[&#39;intc&#39;, &#39;intp&#39;, &#39;int_&#39;, &#39;uint8&#39;, &#39;uint16&#39;, &#39;uint32&#39;, &#39;uint64&#39;, &#39;int8&#39;, &#39;int16&#39;, &#39;int32&#39;, &#39;int64&#39;, &#39;short&#39;, &#39;long&#39;, &#39;longlong&#39;, &#39;float16&#39;, &#39;float32&#39;, &#39;float64&#39;], feat_constraints1=[autoai_libs.utils.fc_meth...)\">\n<ellipse fill=\"#ffffff\" stroke=\"#000000\" cx=\"1011.9575\" cy=\"-36.7696\" rx=\"27\" ry=\"18\"/>\n<text text-anchor=\"middle\" x=\"1011.9575\" y=\"-33.9696\" font-family=\"Times,serif\" font-size=\"11.00\" fill=\"#000000\">TA2</text>\n</a>\n</g>\n</g>\n<!-- fs1_0&#45;&gt;ta2_1 -->\n<g id=\"edge9\" class=\"edge\">\n<title>fs1_0&#45;&gt;ta2_1</title>\n<path fill=\"none\" stroke=\"#000000\" d=\"M948.9605,-36.7696C956.9852,-36.7696 965.924,-36.7696 974.4884,-36.7696\"/>\n<polygon fill=\"#000000\" stroke=\"#000000\" points=\"974.6626,-40.2697 984.6625,-36.7696 974.6625,-33.2697 974.6626,-40.2697\"/>\n</g>\n<!-- fs1_1 -->\n<g id=\"node11\" class=\"node\">\n<title>fs1_1</title>\n<g id=\"a_node11\"><a xlink:href=\"https://lale.readthedocs.io/en/latest/modules/lale.lib.autoai_libs.fs1.html\" xlink:title=\"fs1_1 = FS1(cols_ids_must_keep=range(0, 8), additional_col_count_to_keep=8, ptype=&#39;regression&#39;)\">\n<ellipse fill=\"#ffffff\" stroke=\"#000000\" cx=\"1101.9575\" cy=\"-36.7696\" rx=\"27\" ry=\"18\"/>\n<text text-anchor=\"middle\" x=\"1101.9575\" y=\"-33.9696\" font-family=\"Times,serif\" font-size=\"11.00\" fill=\"#000000\">FS1</text>\n</a>\n</g>\n</g>\n<!-- ta2_1&#45;&gt;fs1_1 -->\n<g id=\"edge10\" class=\"edge\">\n<title>ta2_1&#45;&gt;fs1_1</title>\n<path fill=\"none\" stroke=\"#000000\" d=\"M1038.9605,-36.7696C1046.9852,-36.7696 1055.924,-36.7696 1064.4884,-36.7696\"/>\n<polygon fill=\"#000000\" stroke=\"#000000\" points=\"1064.6626,-40.2697 1074.6625,-36.7696 1064.6625,-33.2697 1064.6626,-40.2697\"/>\n</g>\n<!-- xgb_regressor -->\n<g id=\"node12\" class=\"node\">\n<title>xgb_regressor</title>\n<g id=\"a_node12\"><a xlink:title=\"xgb_regressor = XGBRegressor(learning_rate=0.04539783288295145, max_depth=2, min_child_weight=2, missing=float(&#39;nan&#39;), n_estimators=1399, random_state=33, reg_alpha=0.006189567604077665, reg_lambda=0.6696073626806818, subsample=0.9924292248704613)\">\n<ellipse fill=\"#ffffff\" stroke=\"#000000\" cx=\"1210.2123\" cy=\"-36.7696\" rx=\"45.011\" ry=\"19.6\"/>\n<text text-anchor=\"middle\" x=\"1210.2123\" y=\"-39.9696\" font-family=\"Times,serif\" font-size=\"11.00\" fill=\"#000000\">XGB&#45;</text>\n<text text-anchor=\"middle\" x=\"1210.2123\" y=\"-27.9696\" font-family=\"Times,serif\" font-size=\"11.00\" fill=\"#000000\">Regressor</text>\n</a>\n</g>\n</g>\n<!-- fs1_1&#45;&gt;xgb_regressor -->\n<g id=\"edge11\" class=\"edge\">\n<title>fs1_1&#45;&gt;xgb_regressor</title>\n<path fill=\"none\" stroke=\"#000000\" d=\"M1128.9955,-36.7696C1136.8218,-36.7696 1145.666,-36.7696 1154.5651,-36.7696\"/>\n<polygon fill=\"#000000\" stroke=\"#000000\" points=\"1154.5845,-40.2697 1164.5844,-36.7696 1154.5844,-33.2697 1154.5845,-40.2697\"/>\n</g>\n</g>\n</svg>\n",
                        "text/plain": "<graphviz.dot.Digraph at 0x7f78384b9d68>"
                    },
                    "metadata": {},
                    "output_type": "display_data"
                }
            ],
            "source": "pipeline_model.visualize()"
        },
        {
            "cell_type": "markdown",
            "metadata": {
                "pycharm": {
                    "name": "#%% md\n"
                }
            },
            "source": "<a id=\"train_read\"></a>\n### Read training data\n\nRetrieve training dataset from AutoAI experiment as pandas DataFrame."
        },
        {
            "cell_type": "code",
            "execution_count": 10,
            "metadata": {
                "pycharm": {
                    "name": "#%%\n"
                }
            },
            "outputs": [],
            "source": "train_df = optimizer.get_data_connections()[0].read()\ntest_df = train_df.sample(n=5).drop([experiment_metadata['prediction_column']], axis=1)"
        },
        {
            "cell_type": "markdown",
            "metadata": {
                "pycharm": {
                    "name": "#%% md\n"
                }
            },
            "source": "<a id=\"test_model\"></a>\n### Test pipeline model locally\nYou can predict target value using trained AutoAI model by calling `predict()`."
        },
        {
            "cell_type": "code",
            "execution_count": 11,
            "metadata": {
                "pycharm": {
                    "name": "#%%\n"
                }
            },
            "outputs": [
                {
                    "name": "stdout",
                    "output_type": "stream",
                    "text": "[0.22992662 0.30047667 0.11005026 0.24948955 0.1914751 ]\n"
                }
            ],
            "source": "y_pred = pipeline_model.predict(test_df.values)\nprint(y_pred)"
        },
        {
            "cell_type": "markdown",
            "metadata": {
                "pycharm": {
                    "name": "#%% md\n"
                }
            },
            "source": "<a id=\"refinery\"></a>\n## Pipeline refinery and testing (optional)\n\nIn this section you will learn how to refine and retrain the best pipeline returned by AutoAI.\nIt can be performed by:\n - modifying pipeline definition source code\n - using [lale](https://lale.readthedocs.io/en/latest/) library for semi-automated data science\n\n**Note**: In order to run this section change following cells to 'code' cell."
        },
        {
            "cell_type": "markdown",
            "metadata": {},
            "source": "<a id=\"pipeline_definition\"></a>\n### Pipeline definition source code\nFollowing cell lets you experiment with pipeline definition in python, e.g. change steps parameters.\n\nIt will inject pipeline definition to the next cell."
        },
        {
            "cell_type": "code",
            "execution_count": 12,
            "metadata": {
                "pycharm": {
                    "name": "#%%\n"
                }
            },
            "outputs": [],
            "source": "pipeline_model.pretty_print(combinators=False, ipython_display='input')"
        },
        {
            "cell_type": "code",
            "execution_count": 13,
            "metadata": {},
            "outputs": [],
            "source": "# generated by pretty_print(ipython_display='input') from previous cell\nfrom autoai_libs.transformers.exportable import ColumnSelector\nfrom lale.lib.autoai_libs import NumpyColumnSelector\nfrom lale.lib.autoai_libs import FloatStr2Float\nfrom lale.lib.autoai_libs import NumpyReplaceMissingValues\nfrom lale.lib.autoai_libs import NumImputer\nfrom lale.lib.autoai_libs import OptStandardScaler\nfrom lale.lib.autoai_libs import float32_transform\nfrom lale.lib.autoai_libs import TA2\nimport numpy as np\nimport autoai_libs.utils.fc_methods\nfrom lale.lib.autoai_libs import FS1\nfrom xgboost import XGBRegressor\nfrom lale.operators import make_pipeline\n\ncolumn_selector = ColumnSelector(columns_indices_list=[1, 2, 3, 4, 5, 6, 7, 8])\nnumpy_column_selector = NumpyColumnSelector(columns=[0, 1, 2, 3, 4, 5, 6, 7])\nfloat_str2_float = FloatStr2Float(dtypes_list=['float_num', 'float_int_num', 'float_num', 'float_int_num', 'float_num', 'float_int_num', 'float_int_num', 'float_int_num'], missing_values_reference_list=[])\nnumpy_replace_missing_values = NumpyReplaceMissingValues(filling_values=float('nan'), missing_values=[])\nnum_imputer = NumImputer(missing_values=float('nan'), strategy='median')\nopt_standard_scaler = OptStandardScaler(num_scaler_copy=None, num_scaler_with_mean=None, num_scaler_with_std=None, use_scaler_flag=False)\nta2_0 = TA2(fun=np.multiply, name='product', datatypes1=['intc', 'intp', 'int_', 'uint8', 'uint16', 'uint32', 'uint64', 'int8', 'int16', 'int32', 'int64', 'short', 'long', 'longlong', 'float16', 'float32', 'float64'], feat_constraints1=[autoai_libs.utils.fc_methods.is_not_categorical], datatypes2=['intc', 'intp', 'int_', 'uint8', 'uint16', 'uint32', 'uint64', 'int8', 'int16', 'int32', 'int64', 'short', 'long', 'longlong', 'float16', 'float32', 'float64'], feat_constraints2=[autoai_libs.utils.fc_methods.is_not_categorical], col_names=['K', 'T', 'API', 'Pi', 'Uoi, cp', 'Rsi', 'OOIP', 'Produced'], col_dtypes=[np.dtype('float32'), np.dtype('float32'), np.dtype('float32'), np.dtype('float32'), np.dtype('float32'), np.dtype('float32'), np.dtype('float32'), np.dtype('float32')])\nfs1_0 = FS1(cols_ids_must_keep=range(0, 8), additional_col_count_to_keep=8, ptype='regression')\nta2_1 = TA2(fun=np.true_divide, name='divide', datatypes1=['intc', 'intp', 'int_', 'uint8', 'uint16', 'uint32', 'uint64', 'int8', 'int16', 'int32', 'int64', 'short', 'long', 'longlong', 'float16', 'float32', 'float64'], feat_constraints1=[autoai_libs.utils.fc_methods.is_not_categorical], datatypes2=['intc', 'intp', 'int_', 'uint8', 'uint16', 'uint32', 'uint64', 'int8', 'int16', 'int32', 'int64', 'short', 'long', 'longlong', 'float16', 'float32', 'float64'], feat_constraints2=[autoai_libs.utils.fc_methods.is_not_categorical], col_names=['K', 'T', 'API', 'Pi', 'Uoi, cp', 'Rsi', 'OOIP', 'Produced', 'product(T__Produced)', 'product(API__Produced)', 'product(Pi__Produced)', 'product(Rsi__Produced)', 'product(Produced__T)', 'product(Produced__API)', 'product(Produced__Pi)', 'product(Produced__Rsi)'], col_dtypes=[np.dtype('float32'), np.dtype('float32'), np.dtype('float32'), np.dtype('float32'), np.dtype('float32'), np.dtype('float32'), np.dtype('float32'), np.dtype('float32'), np.dtype('float32'), np.dtype('float32'), np.dtype('float32'), np.dtype('float32'), np.dtype('float32'), np.dtype('float32'), np.dtype('float32'), np.dtype('float32')])\nfs1_1 = FS1(cols_ids_must_keep=range(0, 8), additional_col_count_to_keep=8, ptype='regression')\nxgb_regressor = XGBRegressor(learning_rate=0.04539783288295145, max_depth=2, min_child_weight=2, missing=float('nan'), n_estimators=1399, random_state=33, reg_alpha=0.006189567604077665, reg_lambda=0.6696073626806818, subsample=0.9924292248704613)\npipeline = make_pipeline(column_selector, numpy_column_selector, float_str2_float, numpy_replace_missing_values, num_imputer, opt_standard_scaler, float32_transform(), ta2_0, fs1_0, ta2_1, fs1_1, xgb_regressor)"
        },
        {
            "cell_type": "code",
            "execution_count": 14,
            "metadata": {},
            "outputs": [],
            "source": "# generated by pretty_print(ipython_display='input') from previous cell\nfrom autoai_libs.transformers.exportable import ColumnSelector\nfrom lale.lib.autoai_libs import NumpyColumnSelector\nfrom lale.lib.autoai_libs import FloatStr2Float\nfrom lale.lib.autoai_libs import NumpyReplaceMissingValues\nfrom lale.lib.autoai_libs import NumImputer\nfrom lale.lib.autoai_libs import OptStandardScaler\nfrom lale.lib.autoai_libs import float32_transform\nfrom lale.lib.autoai_libs import TA2\nimport numpy as np\nimport autoai_libs.utils.fc_methods\nfrom lale.lib.autoai_libs import FS1\nfrom xgboost import XGBRegressor\nfrom lale.operators import make_pipeline\n\ncolumn_selector = ColumnSelector(columns_indices_list=[1, 2, 3, 4, 5, 6, 7, 8])\nnumpy_column_selector = NumpyColumnSelector(columns=[0, 1, 2, 3, 4, 5, 6, 7])\nfloat_str2_float = FloatStr2Float(dtypes_list=['float_num', 'float_int_num', 'float_num', 'float_int_num', 'float_num', 'float_int_num', 'float_int_num', 'float_int_num'], missing_values_reference_list=[])\nnumpy_replace_missing_values = NumpyReplaceMissingValues(filling_values=float('nan'), missing_values=[])\nnum_imputer = NumImputer(missing_values=float('nan'), strategy='median')\nopt_standard_scaler = OptStandardScaler(num_scaler_copy=None, num_scaler_with_mean=None, num_scaler_with_std=None, use_scaler_flag=False)\nta2_0 = TA2(fun=np.multiply, name='product', datatypes1=['intc', 'intp', 'int_', 'uint8', 'uint16', 'uint32', 'uint64', 'int8', 'int16', 'int32', 'int64', 'short', 'long', 'longlong', 'float16', 'float32', 'float64'], feat_constraints1=[autoai_libs.utils.fc_methods.is_not_categorical], datatypes2=['intc', 'intp', 'int_', 'uint8', 'uint16', 'uint32', 'uint64', 'int8', 'int16', 'int32', 'int64', 'short', 'long', 'longlong', 'float16', 'float32', 'float64'], feat_constraints2=[autoai_libs.utils.fc_methods.is_not_categorical], col_names=['K', 'T', 'API', 'Pi', 'Uoi, cp', 'Rsi', 'OOIP', 'Produced'], col_dtypes=[np.dtype('float32'), np.dtype('float32'), np.dtype('float32'), np.dtype('float32'), np.dtype('float32'), np.dtype('float32'), np.dtype('float32'), np.dtype('float32')])\nfs1_0 = FS1(cols_ids_must_keep=range(0, 8), additional_col_count_to_keep=8, ptype='regression')\nta2_1 = TA2(fun=np.true_divide, name='divide', datatypes1=['intc', 'intp', 'int_', 'uint8', 'uint16', 'uint32', 'uint64', 'int8', 'int16', 'int32', 'int64', 'short', 'long', 'longlong', 'float16', 'float32', 'float64'], feat_constraints1=[autoai_libs.utils.fc_methods.is_not_categorical], datatypes2=['intc', 'intp', 'int_', 'uint8', 'uint16', 'uint32', 'uint64', 'int8', 'int16', 'int32', 'int64', 'short', 'long', 'longlong', 'float16', 'float32', 'float64'], feat_constraints2=[autoai_libs.utils.fc_methods.is_not_categorical], col_names=['K', 'T', 'API', 'Pi', 'Uoi, cp', 'Rsi', 'OOIP', 'Produced', 'product(T__Produced)', 'product(API__Produced)', 'product(Pi__Produced)', 'product(Rsi__Produced)', 'product(Produced__T)', 'product(Produced__API)', 'product(Produced__Pi)', 'product(Produced__Rsi)'], col_dtypes=[np.dtype('float32'), np.dtype('float32'), np.dtype('float32'), np.dtype('float32'), np.dtype('float32'), np.dtype('float32'), np.dtype('float32'), np.dtype('float32'), np.dtype('float32'), np.dtype('float32'), np.dtype('float32'), np.dtype('float32'), np.dtype('float32'), np.dtype('float32'), np.dtype('float32'), np.dtype('float32')])\nfs1_1 = FS1(cols_ids_must_keep=range(0, 8), additional_col_count_to_keep=8, ptype='regression')\nxgb_regressor = XGBRegressor(learning_rate=0.04539783288295145, max_depth=2, min_child_weight=2, missing=float('nan'), n_estimators=1399, random_state=33, reg_alpha=0.006189567604077665, reg_lambda=0.6696073626806818, silent=True, subsample=0.9924292248704613, verbosity=0)\npipeline = make_pipeline(column_selector, numpy_column_selector, float_str2_float, numpy_replace_missing_values, num_imputer, opt_standard_scaler, float32_transform(), ta2_0, fs1_0, ta2_1, fs1_1, xgb_regressor)"
        },
        {
            "cell_type": "markdown",
            "metadata": {
                "pycharm": {
                    "name": "#%% md\n"
                }
            },
            "source": "<a id=\"lale_library\"></a>\n### Lale library\n\n**Note**: This is only an exemplary usage of lale package. You can import more different estimators to refine downloaded pipeline model."
        },
        {
            "cell_type": "markdown",
            "metadata": {},
            "source": "#### Import estimators"
        },
        {
            "cell_type": "code",
            "execution_count": 15,
            "metadata": {
                "pycharm": {
                    "is_executing": false,
                    "name": "#%%\n"
                }
            },
            "outputs": [],
            "source": "from sklearn.linear_model import LinearRegression as E1\nfrom sklearn.tree import DecisionTreeRegressor as E2\nfrom sklearn.neighbors import KNeighborsRegressor as E3\nfrom lale.lib.lale import Hyperopt\nfrom lale.operators import TrainedPipeline\nfrom lale import wrap_imported_operators\nfrom lale.helpers import import_from_sklearn_pipeline\nwrap_imported_operators()"
        },
        {
            "cell_type": "markdown",
            "metadata": {
                "pycharm": {
                    "name": "#%% md\n"
                }
            },
            "source": "<a id=\"decomposition_definition\"></a>\n#### Pipeline decomposition and new definition\nIn this step the last stage from pipeline is removed."
        },
        {
            "cell_type": "code",
            "execution_count": 16,
            "metadata": {
                "pycharm": {
                    "name": "#%%\n"
                }
            },
            "outputs": [
                {
                    "data": {
                        "image/svg+xml": "<?xml version=\"1.0\" encoding=\"UTF-8\" standalone=\"no\"?>\n<!DOCTYPE svg PUBLIC \"-//W3C//DTD SVG 1.1//EN\"\n \"http://www.w3.org/Graphics/SVG/1.1/DTD/svg11.dtd\">\n<!-- Generated by graphviz version 2.40.1 (20161225.0304)\n -->\n<!-- Title: cluster:(root) Pages: 1 -->\n<svg width=\"1137pt\" height=\"82pt\"\n viewBox=\"0.00 0.00 1136.96 81.54\" xmlns=\"http://www.w3.org/2000/svg\" xmlns:xlink=\"http://www.w3.org/1999/xlink\">\n<g id=\"graph0\" class=\"graph\" transform=\"scale(1 1) rotate(0) translate(4 77.5391)\">\n<title>cluster:(root)</title>\n<g id=\"a_graph0\"><a xlink:title=\"(root) = ...\">\n<polygon fill=\"#ffffff\" stroke=\"transparent\" points=\"-4,4 -4,-77.5391 1132.9575,-77.5391 1132.9575,4 -4,4\"/>\n</a>\n</g>\n<!-- column_selector -->\n<g id=\"node1\" class=\"node\">\n<title>column_selector</title>\n<g id=\"a_node1\"><a xlink:title=\"column_selector = ColumnSelector(columns_indices_list=[1, 2, 3, 4, 5, 6, 7, 8])\">\n<ellipse fill=\"#ffffff\" stroke=\"#000000\" cx=\"39.598\" cy=\"-36.7696\" rx=\"39.6962\" ry=\"19.6\"/>\n<text text-anchor=\"middle\" x=\"39.598\" y=\"-39.9696\" font-family=\"Times,serif\" font-size=\"11.00\" fill=\"#000000\">Column&#45;</text>\n<text text-anchor=\"middle\" x=\"39.598\" y=\"-27.9696\" font-family=\"Times,serif\" font-size=\"11.00\" fill=\"#000000\">Selector</text>\n</a>\n</g>\n</g>\n<!-- numpy_column_selector -->\n<g id=\"node2\" class=\"node\">\n<title>numpy_column_selector</title>\n<g id=\"a_node2\"><a xlink:href=\"https://lale.readthedocs.io/en/latest/modules/lale.lib.autoai_libs.numpy_column_selector.html\" xlink:title=\"numpy_column_selector = NumpyColumnSelector(columns=[0, 1, 2, 3, 4, 5, 6, 7])\">\n<ellipse fill=\"#ffffff\" stroke=\"#000000\" cx=\"154.7939\" cy=\"-36.7696\" rx=\"39.6962\" ry=\"28.0702\"/>\n<text text-anchor=\"middle\" x=\"154.7939\" y=\"-45.9696\" font-family=\"Times,serif\" font-size=\"11.00\" fill=\"#000000\">Numpy&#45;</text>\n<text text-anchor=\"middle\" x=\"154.7939\" y=\"-33.9696\" font-family=\"Times,serif\" font-size=\"11.00\" fill=\"#000000\">Column&#45;</text>\n<text text-anchor=\"middle\" x=\"154.7939\" y=\"-21.9696\" font-family=\"Times,serif\" font-size=\"11.00\" fill=\"#000000\">Selector</text>\n</a>\n</g>\n</g>\n<!-- column_selector&#45;&gt;numpy_column_selector -->\n<g id=\"edge1\" class=\"edge\">\n<title>column_selector&#45;&gt;numpy_column_selector</title>\n<path fill=\"none\" stroke=\"#000000\" d=\"M79.2419,-36.7696C87.4778,-36.7696 96.258,-36.7696 104.8101,-36.7696\"/>\n<polygon fill=\"#000000\" stroke=\"#000000\" points=\"105.077,-40.2697 115.077,-36.7696 105.0769,-33.2697 105.077,-40.2697\"/>\n</g>\n<!-- float_str2_float -->\n<g id=\"node3\" class=\"node\">\n<title>float_str2_float</title>\n<g id=\"a_node3\"><a xlink:href=\"https://lale.readthedocs.io/en/latest/modules/lale.lib.autoai_libs.float_str2_float.html\" xlink:title=\"float_str2_float = FloatStr2Float(dtypes_list=[&#39;float_num&#39;, &#39;float_int_num&#39;, &#39;float_num&#39;, &#39;float_int_num&#39;, &#39;float_num&#39;, &#39;float_int_num&#39;, &#39;float_int_num&#39;, &#39;float_int_num&#39;], missing_values_reference_list=[])\">\n<ellipse fill=\"#ffffff\" stroke=\"#000000\" cx=\"258.6762\" cy=\"-36.7696\" rx=\"28.0702\" ry=\"28.0702\"/>\n<text text-anchor=\"middle\" x=\"258.6762\" y=\"-45.9696\" font-family=\"Times,serif\" font-size=\"11.00\" fill=\"#000000\">Float&#45;</text>\n<text text-anchor=\"middle\" x=\"258.6762\" y=\"-33.9696\" font-family=\"Times,serif\" font-size=\"11.00\" fill=\"#000000\">Str2&#45;</text>\n<text text-anchor=\"middle\" x=\"258.6762\" y=\"-21.9696\" font-family=\"Times,serif\" font-size=\"11.00\" fill=\"#000000\">Float</text>\n</a>\n</g>\n</g>\n<!-- numpy_column_selector&#45;&gt;float_str2_float -->\n<g id=\"edge2\" class=\"edge\">\n<title>numpy_column_selector&#45;&gt;float_str2_float</title>\n<path fill=\"none\" stroke=\"#000000\" d=\"M194.6604,-36.7696C203.0285,-36.7696 211.8392,-36.7696 220.1569,-36.7696\"/>\n<polygon fill=\"#000000\" stroke=\"#000000\" points=\"220.3586,-40.2697 230.3585,-36.7696 220.3585,-33.2697 220.3586,-40.2697\"/>\n</g>\n<!-- numpy_replace_missing_values -->\n<g id=\"node4\" class=\"node\">\n<title>numpy_replace_missing_values</title>\n<g id=\"a_node4\"><a xlink:href=\"https://lale.readthedocs.io/en/latest/modules/lale.lib.autoai_libs.numpy_replace_missing_values.html\" xlink:title=\"numpy_replace_missing_values = NumpyReplaceMissingValues(filling_values=float(&#39;nan&#39;), missing_values=[])\">\n<ellipse fill=\"#ffffff\" stroke=\"#000000\" cx=\"362.5584\" cy=\"-36.7696\" rx=\"39.6962\" ry=\"36.5405\"/>\n<text text-anchor=\"middle\" x=\"362.5584\" y=\"-51.9696\" font-family=\"Times,serif\" font-size=\"11.00\" fill=\"#000000\">Numpy&#45;</text>\n<text text-anchor=\"middle\" x=\"362.5584\" y=\"-39.9696\" font-family=\"Times,serif\" font-size=\"11.00\" fill=\"#000000\">Replace&#45;</text>\n<text text-anchor=\"middle\" x=\"362.5584\" y=\"-27.9696\" font-family=\"Times,serif\" font-size=\"11.00\" fill=\"#000000\">Missing&#45;</text>\n<text text-anchor=\"middle\" x=\"362.5584\" y=\"-15.9696\" font-family=\"Times,serif\" font-size=\"11.00\" fill=\"#000000\">Values</text>\n</a>\n</g>\n</g>\n<!-- float_str2_float&#45;&gt;numpy_replace_missing_values -->\n<g id=\"edge3\" class=\"edge\">\n<title>float_str2_float&#45;&gt;numpy_replace_missing_values</title>\n<path fill=\"none\" stroke=\"#000000\" d=\"M287.0625,-36.7696C295.0072,-36.7696 303.8847,-36.7696 312.683,-36.7696\"/>\n<polygon fill=\"#000000\" stroke=\"#000000\" points=\"312.9146,-40.2697 322.9145,-36.7696 312.9145,-33.2697 312.9146,-40.2697\"/>\n</g>\n<!-- num_imputer -->\n<g id=\"node5\" class=\"node\">\n<title>num_imputer</title>\n<g id=\"a_node5\"><a xlink:href=\"https://lale.readthedocs.io/en/latest/modules/lale.lib.autoai_libs.num_imputer.html\" xlink:title=\"num_imputer = NumImputer(missing_values=float(&#39;nan&#39;), strategy=&#39;median&#39;)\">\n<ellipse fill=\"#ffffff\" stroke=\"#000000\" cx=\"476.3402\" cy=\"-36.7696\" rx=\"38.3684\" ry=\"19.6\"/>\n<text text-anchor=\"middle\" x=\"476.3402\" y=\"-39.9696\" font-family=\"Times,serif\" font-size=\"11.00\" fill=\"#000000\">Num&#45;</text>\n<text text-anchor=\"middle\" x=\"476.3402\" y=\"-27.9696\" font-family=\"Times,serif\" font-size=\"11.00\" fill=\"#000000\">Imputer</text>\n</a>\n</g>\n</g>\n<!-- numpy_replace_missing_values&#45;&gt;num_imputer -->\n<g id=\"edge4\" class=\"edge\">\n<title>numpy_replace_missing_values&#45;&gt;num_imputer</title>\n<path fill=\"none\" stroke=\"#000000\" d=\"M402.3538,-36.7696C410.5546,-36.7696 419.2779,-36.7696 427.7502,-36.7696\"/>\n<polygon fill=\"#000000\" stroke=\"#000000\" points=\"427.9082,-40.2697 437.9081,-36.7696 427.9081,-33.2697 427.9082,-40.2697\"/>\n</g>\n<!-- opt_standard_scaler -->\n<g id=\"node6\" class=\"node\">\n<title>opt_standard_scaler</title>\n<g id=\"a_node6\"><a xlink:href=\"https://lale.readthedocs.io/en/latest/modules/lale.lib.autoai_libs.opt_standard_scaler.html\" xlink:title=\"opt_standard_scaler = OptStandardScaler(num_scaler_copy=None, num_scaler_with_mean=None, num_scaler_with_std=None, use_scaler_flag=False)\">\n<ellipse fill=\"#ffffff\" stroke=\"#000000\" cx=\"596.4859\" cy=\"-36.7696\" rx=\"45.9239\" ry=\"28.0702\"/>\n<text text-anchor=\"middle\" x=\"596.4859\" y=\"-45.9696\" font-family=\"Times,serif\" font-size=\"11.00\" fill=\"#000000\">Opt&#45;</text>\n<text text-anchor=\"middle\" x=\"596.4859\" y=\"-33.9696\" font-family=\"Times,serif\" font-size=\"11.00\" fill=\"#000000\">Standard&#45;</text>\n<text text-anchor=\"middle\" x=\"596.4859\" y=\"-21.9696\" font-family=\"Times,serif\" font-size=\"11.00\" fill=\"#000000\">Scaler</text>\n</a>\n</g>\n</g>\n<!-- num_imputer&#45;&gt;opt_standard_scaler -->\n<g id=\"edge5\" class=\"edge\">\n<title>num_imputer&#45;&gt;opt_standard_scaler</title>\n<path fill=\"none\" stroke=\"#000000\" d=\"M514.6854,-36.7696C522.7804,-36.7696 531.4838,-36.7696 540.0864,-36.7696\"/>\n<polygon fill=\"#000000\" stroke=\"#000000\" points=\"540.0962,-40.2697 550.0962,-36.7696 540.0962,-33.2697 540.0962,-40.2697\"/>\n</g>\n<!-- float32_transform -->\n<g id=\"node7\" class=\"node\">\n<title>float32_transform</title>\n<g id=\"a_node7\"><a xlink:href=\"https://lale.readthedocs.io/en/latest/modules/lale.lib.autoai_libs.float32_transform.html\" xlink:title=\"float32_transform = float32_transform()\">\n<ellipse fill=\"#ffffff\" stroke=\"#000000\" cx=\"723.7027\" cy=\"-36.7696\" rx=\"45.011\" ry=\"19.6\"/>\n<text text-anchor=\"middle\" x=\"723.7027\" y=\"-39.9696\" font-family=\"Times,serif\" font-size=\"11.00\" fill=\"#000000\">float32_&#45;</text>\n<text text-anchor=\"middle\" x=\"723.7027\" y=\"-27.9696\" font-family=\"Times,serif\" font-size=\"11.00\" fill=\"#000000\">transform</text>\n</a>\n</g>\n</g>\n<!-- opt_standard_scaler&#45;&gt;float32_transform -->\n<g id=\"edge6\" class=\"edge\">\n<title>opt_standard_scaler&#45;&gt;float32_transform</title>\n<path fill=\"none\" stroke=\"#000000\" d=\"M642.7739,-36.7696C650.9562,-36.7696 659.5523,-36.7696 667.9622,-36.7696\"/>\n<polygon fill=\"#000000\" stroke=\"#000000\" points=\"668.0876,-40.2697 678.0875,-36.7696 668.0875,-33.2697 668.0876,-40.2697\"/>\n</g>\n<!-- ta2_0 -->\n<g id=\"node8\" class=\"node\">\n<title>ta2_0</title>\n<g id=\"a_node8\"><a xlink:href=\"https://lale.readthedocs.io/en/latest/modules/lale.lib.autoai_libs.ta2.html\" xlink:title=\"ta2_0 = TA2(fun=np.multiply, name=&#39;product&#39;, datatypes1=[&#39;intc&#39;, &#39;intp&#39;, &#39;int_&#39;, &#39;uint8&#39;, &#39;uint16&#39;, &#39;uint32&#39;, &#39;uint64&#39;, &#39;int8&#39;, &#39;int16&#39;, &#39;int32&#39;, &#39;int64&#39;, &#39;short&#39;, &#39;long&#39;, &#39;longlong&#39;, &#39;float16&#39;, &#39;float32&#39;, &#39;float64&#39;], feat_constraints1=[autoai_libs.utils.fc_method...)\">\n<ellipse fill=\"#ffffff\" stroke=\"#000000\" cx=\"831.9575\" cy=\"-36.7696\" rx=\"27\" ry=\"18\"/>\n<text text-anchor=\"middle\" x=\"831.9575\" y=\"-33.9696\" font-family=\"Times,serif\" font-size=\"11.00\" fill=\"#000000\">TA2</text>\n</a>\n</g>\n</g>\n<!-- float32_transform&#45;&gt;ta2_0 -->\n<g id=\"edge7\" class=\"edge\">\n<title>float32_transform&#45;&gt;ta2_0</title>\n<path fill=\"none\" stroke=\"#000000\" d=\"M768.9852,-36.7696C777.5402,-36.7696 786.3982,-36.7696 794.673,-36.7696\"/>\n<polygon fill=\"#000000\" stroke=\"#000000\" points=\"794.7756,-40.2697 804.7756,-36.7696 794.7756,-33.2697 794.7756,-40.2697\"/>\n</g>\n<!-- fs1_0 -->\n<g id=\"node9\" class=\"node\">\n<title>fs1_0</title>\n<g id=\"a_node9\"><a xlink:href=\"https://lale.readthedocs.io/en/latest/modules/lale.lib.autoai_libs.fs1.html\" xlink:title=\"fs1_0 = FS1(cols_ids_must_keep=range(0, 8), additional_col_count_to_keep=8, ptype=&#39;regression&#39;)\">\n<ellipse fill=\"#ffffff\" stroke=\"#000000\" cx=\"921.9575\" cy=\"-36.7696\" rx=\"27\" ry=\"18\"/>\n<text text-anchor=\"middle\" x=\"921.9575\" y=\"-33.9696\" font-family=\"Times,serif\" font-size=\"11.00\" fill=\"#000000\">FS1</text>\n</a>\n</g>\n</g>\n<!-- ta2_0&#45;&gt;fs1_0 -->\n<g id=\"edge8\" class=\"edge\">\n<title>ta2_0&#45;&gt;fs1_0</title>\n<path fill=\"none\" stroke=\"#000000\" d=\"M858.9605,-36.7696C866.9852,-36.7696 875.924,-36.7696 884.4884,-36.7696\"/>\n<polygon fill=\"#000000\" stroke=\"#000000\" points=\"884.6626,-40.2697 894.6625,-36.7696 884.6625,-33.2697 884.6626,-40.2697\"/>\n</g>\n<!-- ta2_1 -->\n<g id=\"node10\" class=\"node\">\n<title>ta2_1</title>\n<g id=\"a_node10\"><a xlink:href=\"https://lale.readthedocs.io/en/latest/modules/lale.lib.autoai_libs.ta2.html\" xlink:title=\"ta2_1 = TA2(fun=np.true_divide, name=&#39;divide&#39;, datatypes1=[&#39;intc&#39;, &#39;intp&#39;, &#39;int_&#39;, &#39;uint8&#39;, &#39;uint16&#39;, &#39;uint32&#39;, &#39;uint64&#39;, &#39;int8&#39;, &#39;int16&#39;, &#39;int32&#39;, &#39;int64&#39;, &#39;short&#39;, &#39;long&#39;, &#39;longlong&#39;, &#39;float16&#39;, &#39;float32&#39;, &#39;float64&#39;], feat_constraints1=[autoai_libs.utils.fc_meth...)\">\n<ellipse fill=\"#ffffff\" stroke=\"#000000\" cx=\"1011.9575\" cy=\"-36.7696\" rx=\"27\" ry=\"18\"/>\n<text text-anchor=\"middle\" x=\"1011.9575\" y=\"-33.9696\" font-family=\"Times,serif\" font-size=\"11.00\" fill=\"#000000\">TA2</text>\n</a>\n</g>\n</g>\n<!-- fs1_0&#45;&gt;ta2_1 -->\n<g id=\"edge9\" class=\"edge\">\n<title>fs1_0&#45;&gt;ta2_1</title>\n<path fill=\"none\" stroke=\"#000000\" d=\"M948.9605,-36.7696C956.9852,-36.7696 965.924,-36.7696 974.4884,-36.7696\"/>\n<polygon fill=\"#000000\" stroke=\"#000000\" points=\"974.6626,-40.2697 984.6625,-36.7696 974.6625,-33.2697 974.6626,-40.2697\"/>\n</g>\n<!-- fs1_1 -->\n<g id=\"node11\" class=\"node\">\n<title>fs1_1</title>\n<g id=\"a_node11\"><a xlink:href=\"https://lale.readthedocs.io/en/latest/modules/lale.lib.autoai_libs.fs1.html\" xlink:title=\"fs1_1 = FS1(cols_ids_must_keep=range(0, 8), additional_col_count_to_keep=8, ptype=&#39;regression&#39;)\">\n<ellipse fill=\"#ffffff\" stroke=\"#000000\" cx=\"1101.9575\" cy=\"-36.7696\" rx=\"27\" ry=\"18\"/>\n<text text-anchor=\"middle\" x=\"1101.9575\" y=\"-33.9696\" font-family=\"Times,serif\" font-size=\"11.00\" fill=\"#000000\">FS1</text>\n</a>\n</g>\n</g>\n<!-- ta2_1&#45;&gt;fs1_1 -->\n<g id=\"edge10\" class=\"edge\">\n<title>ta2_1&#45;&gt;fs1_1</title>\n<path fill=\"none\" stroke=\"#000000\" d=\"M1038.9605,-36.7696C1046.9852,-36.7696 1055.924,-36.7696 1064.4884,-36.7696\"/>\n<polygon fill=\"#000000\" stroke=\"#000000\" points=\"1064.6626,-40.2697 1074.6625,-36.7696 1064.6625,-33.2697 1064.6626,-40.2697\"/>\n</g>\n</g>\n</svg>\n",
                        "text/plain": "<graphviz.dot.Digraph at 0x7f78386cd438>"
                    },
                    "metadata": {},
                    "output_type": "display_data"
                }
            ],
            "source": "prefix = pipeline_model.remove_last().freeze_trainable()\nprefix.visualize()"
        },
        {
            "cell_type": "code",
            "execution_count": 17,
            "metadata": {
                "pycharm": {
                    "is_executing": false,
                    "name": "#%%\n"
                }
            },
            "outputs": [
                {
                    "data": {
                        "image/svg+xml": "<?xml version=\"1.0\" encoding=\"UTF-8\" standalone=\"no\"?>\n<!DOCTYPE svg PUBLIC \"-//W3C//DTD SVG 1.1//EN\"\n \"http://www.w3.org/Graphics/SVG/1.1/DTD/svg11.dtd\">\n<!-- Generated by graphviz version 2.40.1 (20161225.0304)\n -->\n<!-- Title: cluster:(root) Pages: 1 -->\n<svg width=\"1243pt\" height=\"185pt\"\n viewBox=\"0.00 0.00 1242.96 185.00\" xmlns=\"http://www.w3.org/2000/svg\" xmlns:xlink=\"http://www.w3.org/1999/xlink\">\n<g id=\"graph0\" class=\"graph\" transform=\"scale(1 1) rotate(0) translate(4 181)\">\n<title>cluster:(root)</title>\n<g id=\"a_graph0\"><a xlink:title=\"(root) = ...\">\n<polygon fill=\"#ffffff\" stroke=\"transparent\" points=\"-4,4 -4,-181 1238.9575,-181 1238.9575,4 -4,4\"/>\n</a>\n</g>\n<g id=\"clust1\" class=\"cluster\">\n<title>cluster:choice</title>\n<g id=\"a_clust1\"><a xlink:title=\"choice = e1 | e2 | e3\">\n<polygon fill=\"#7ec0ee\" stroke=\"#000000\" points=\"1156.9575,-8 1156.9575,-169 1226.9575,-169 1226.9575,-8 1156.9575,-8\"/>\n<text text-anchor=\"middle\" x=\"1191.9575\" y=\"-153.8\" font-family=\"Times,serif\" font-size=\"14.00\" fill=\"#000000\">Choice</text>\n</a>\n</g>\n</g>\n<!-- column_selector -->\n<g id=\"node1\" class=\"node\">\n<title>column_selector</title>\n<g id=\"a_node1\"><a xlink:title=\"column_selector = ColumnSelector(columns_indices_list=[1, 2, 3, 4, 5, 6, 7, 8])\">\n<ellipse fill=\"#ffffff\" stroke=\"#000000\" cx=\"39.598\" cy=\"-120\" rx=\"39.6962\" ry=\"19.6\"/>\n<text text-anchor=\"middle\" x=\"39.598\" y=\"-123.2\" font-family=\"Times,serif\" font-size=\"11.00\" fill=\"#000000\">Column&#45;</text>\n<text text-anchor=\"middle\" x=\"39.598\" y=\"-111.2\" font-family=\"Times,serif\" font-size=\"11.00\" fill=\"#000000\">Selector</text>\n</a>\n</g>\n</g>\n<!-- numpy_column_selector -->\n<g id=\"node2\" class=\"node\">\n<title>numpy_column_selector</title>\n<g id=\"a_node2\"><a xlink:href=\"https://lale.readthedocs.io/en/latest/modules/lale.lib.autoai_libs.numpy_column_selector.html\" xlink:title=\"numpy_column_selector = NumpyColumnSelector(columns=[0, 1, 2, 3, 4, 5, 6, 7])\">\n<ellipse fill=\"#ffffff\" stroke=\"#000000\" cx=\"154.7939\" cy=\"-120\" rx=\"39.6962\" ry=\"28.0702\"/>\n<text text-anchor=\"middle\" x=\"154.7939\" y=\"-129.2\" font-family=\"Times,serif\" font-size=\"11.00\" fill=\"#000000\">Numpy&#45;</text>\n<text text-anchor=\"middle\" x=\"154.7939\" y=\"-117.2\" font-family=\"Times,serif\" font-size=\"11.00\" fill=\"#000000\">Column&#45;</text>\n<text text-anchor=\"middle\" x=\"154.7939\" y=\"-105.2\" font-family=\"Times,serif\" font-size=\"11.00\" fill=\"#000000\">Selector</text>\n</a>\n</g>\n</g>\n<!-- column_selector&#45;&gt;numpy_column_selector -->\n<g id=\"edge1\" class=\"edge\">\n<title>column_selector&#45;&gt;numpy_column_selector</title>\n<path fill=\"none\" stroke=\"#000000\" d=\"M79.2419,-120C87.4778,-120 96.258,-120 104.8101,-120\"/>\n<polygon fill=\"#000000\" stroke=\"#000000\" points=\"105.077,-123.5001 115.077,-120 105.0769,-116.5001 105.077,-123.5001\"/>\n</g>\n<!-- float_str2_float -->\n<g id=\"node3\" class=\"node\">\n<title>float_str2_float</title>\n<g id=\"a_node3\"><a xlink:href=\"https://lale.readthedocs.io/en/latest/modules/lale.lib.autoai_libs.float_str2_float.html\" xlink:title=\"float_str2_float = FloatStr2Float(dtypes_list=[&#39;float_num&#39;, &#39;float_int_num&#39;, &#39;float_num&#39;, &#39;float_int_num&#39;, &#39;float_num&#39;, &#39;float_int_num&#39;, &#39;float_int_num&#39;, &#39;float_int_num&#39;], missing_values_reference_list=[])\">\n<ellipse fill=\"#ffffff\" stroke=\"#000000\" cx=\"258.6762\" cy=\"-120\" rx=\"28.0702\" ry=\"28.0702\"/>\n<text text-anchor=\"middle\" x=\"258.6762\" y=\"-129.2\" font-family=\"Times,serif\" font-size=\"11.00\" fill=\"#000000\">Float&#45;</text>\n<text text-anchor=\"middle\" x=\"258.6762\" y=\"-117.2\" font-family=\"Times,serif\" font-size=\"11.00\" fill=\"#000000\">Str2&#45;</text>\n<text text-anchor=\"middle\" x=\"258.6762\" y=\"-105.2\" font-family=\"Times,serif\" font-size=\"11.00\" fill=\"#000000\">Float</text>\n</a>\n</g>\n</g>\n<!-- numpy_column_selector&#45;&gt;float_str2_float -->\n<g id=\"edge2\" class=\"edge\">\n<title>numpy_column_selector&#45;&gt;float_str2_float</title>\n<path fill=\"none\" stroke=\"#000000\" d=\"M194.6604,-120C203.0285,-120 211.8392,-120 220.1569,-120\"/>\n<polygon fill=\"#000000\" stroke=\"#000000\" points=\"220.3586,-123.5001 230.3585,-120 220.3585,-116.5001 220.3586,-123.5001\"/>\n</g>\n<!-- numpy_replace_missing_values -->\n<g id=\"node4\" class=\"node\">\n<title>numpy_replace_missing_values</title>\n<g id=\"a_node4\"><a xlink:href=\"https://lale.readthedocs.io/en/latest/modules/lale.lib.autoai_libs.numpy_replace_missing_values.html\" xlink:title=\"numpy_replace_missing_values = NumpyReplaceMissingValues(filling_values=float(&#39;nan&#39;), missing_values=[])\">\n<ellipse fill=\"#ffffff\" stroke=\"#000000\" cx=\"362.5584\" cy=\"-120\" rx=\"39.6962\" ry=\"36.5405\"/>\n<text text-anchor=\"middle\" x=\"362.5584\" y=\"-135.2\" font-family=\"Times,serif\" font-size=\"11.00\" fill=\"#000000\">Numpy&#45;</text>\n<text text-anchor=\"middle\" x=\"362.5584\" y=\"-123.2\" font-family=\"Times,serif\" font-size=\"11.00\" fill=\"#000000\">Replace&#45;</text>\n<text text-anchor=\"middle\" x=\"362.5584\" y=\"-111.2\" font-family=\"Times,serif\" font-size=\"11.00\" fill=\"#000000\">Missing&#45;</text>\n<text text-anchor=\"middle\" x=\"362.5584\" y=\"-99.2\" font-family=\"Times,serif\" font-size=\"11.00\" fill=\"#000000\">Values</text>\n</a>\n</g>\n</g>\n<!-- float_str2_float&#45;&gt;numpy_replace_missing_values -->\n<g id=\"edge3\" class=\"edge\">\n<title>float_str2_float&#45;&gt;numpy_replace_missing_values</title>\n<path fill=\"none\" stroke=\"#000000\" d=\"M287.0625,-120C295.0072,-120 303.8847,-120 312.683,-120\"/>\n<polygon fill=\"#000000\" stroke=\"#000000\" points=\"312.9146,-123.5001 322.9145,-120 312.9145,-116.5001 312.9146,-123.5001\"/>\n</g>\n<!-- num_imputer -->\n<g id=\"node5\" class=\"node\">\n<title>num_imputer</title>\n<g id=\"a_node5\"><a xlink:href=\"https://lale.readthedocs.io/en/latest/modules/lale.lib.autoai_libs.num_imputer.html\" xlink:title=\"num_imputer = NumImputer(missing_values=float(&#39;nan&#39;), strategy=&#39;median&#39;)\">\n<ellipse fill=\"#ffffff\" stroke=\"#000000\" cx=\"476.3402\" cy=\"-120\" rx=\"38.3684\" ry=\"19.6\"/>\n<text text-anchor=\"middle\" x=\"476.3402\" y=\"-123.2\" font-family=\"Times,serif\" font-size=\"11.00\" fill=\"#000000\">Num&#45;</text>\n<text text-anchor=\"middle\" x=\"476.3402\" y=\"-111.2\" font-family=\"Times,serif\" font-size=\"11.00\" fill=\"#000000\">Imputer</text>\n</a>\n</g>\n</g>\n<!-- numpy_replace_missing_values&#45;&gt;num_imputer -->\n<g id=\"edge4\" class=\"edge\">\n<title>numpy_replace_missing_values&#45;&gt;num_imputer</title>\n<path fill=\"none\" stroke=\"#000000\" d=\"M402.3538,-120C410.5546,-120 419.2779,-120 427.7502,-120\"/>\n<polygon fill=\"#000000\" stroke=\"#000000\" points=\"427.9082,-123.5001 437.9081,-120 427.9081,-116.5001 427.9082,-123.5001\"/>\n</g>\n<!-- opt_standard_scaler -->\n<g id=\"node6\" class=\"node\">\n<title>opt_standard_scaler</title>\n<g id=\"a_node6\"><a xlink:href=\"https://lale.readthedocs.io/en/latest/modules/lale.lib.autoai_libs.opt_standard_scaler.html\" xlink:title=\"opt_standard_scaler = OptStandardScaler(num_scaler_copy=None, num_scaler_with_mean=None, num_scaler_with_std=None, use_scaler_flag=False)\">\n<ellipse fill=\"#ffffff\" stroke=\"#000000\" cx=\"596.4859\" cy=\"-120\" rx=\"45.9239\" ry=\"28.0702\"/>\n<text text-anchor=\"middle\" x=\"596.4859\" y=\"-129.2\" font-family=\"Times,serif\" font-size=\"11.00\" fill=\"#000000\">Opt&#45;</text>\n<text text-anchor=\"middle\" x=\"596.4859\" y=\"-117.2\" font-family=\"Times,serif\" font-size=\"11.00\" fill=\"#000000\">Standard&#45;</text>\n<text text-anchor=\"middle\" x=\"596.4859\" y=\"-105.2\" font-family=\"Times,serif\" font-size=\"11.00\" fill=\"#000000\">Scaler</text>\n</a>\n</g>\n</g>\n<!-- num_imputer&#45;&gt;opt_standard_scaler -->\n<g id=\"edge5\" class=\"edge\">\n<title>num_imputer&#45;&gt;opt_standard_scaler</title>\n<path fill=\"none\" stroke=\"#000000\" d=\"M514.6854,-120C522.7804,-120 531.4838,-120 540.0864,-120\"/>\n<polygon fill=\"#000000\" stroke=\"#000000\" points=\"540.0962,-123.5001 550.0962,-120 540.0962,-116.5001 540.0962,-123.5001\"/>\n</g>\n<!-- float32_transform -->\n<g id=\"node7\" class=\"node\">\n<title>float32_transform</title>\n<g id=\"a_node7\"><a xlink:href=\"https://lale.readthedocs.io/en/latest/modules/lale.lib.autoai_libs.float32_transform.html\" xlink:title=\"float32_transform = float32_transform()\">\n<ellipse fill=\"#ffffff\" stroke=\"#000000\" cx=\"723.7027\" cy=\"-120\" rx=\"45.011\" ry=\"19.6\"/>\n<text text-anchor=\"middle\" x=\"723.7027\" y=\"-123.2\" font-family=\"Times,serif\" font-size=\"11.00\" fill=\"#000000\">float32_&#45;</text>\n<text text-anchor=\"middle\" x=\"723.7027\" y=\"-111.2\" font-family=\"Times,serif\" font-size=\"11.00\" fill=\"#000000\">transform</text>\n</a>\n</g>\n</g>\n<!-- opt_standard_scaler&#45;&gt;float32_transform -->\n<g id=\"edge6\" class=\"edge\">\n<title>opt_standard_scaler&#45;&gt;float32_transform</title>\n<path fill=\"none\" stroke=\"#000000\" d=\"M642.7739,-120C650.9562,-120 659.5523,-120 667.9622,-120\"/>\n<polygon fill=\"#000000\" stroke=\"#000000\" points=\"668.0876,-123.5001 678.0875,-120 668.0875,-116.5001 668.0876,-123.5001\"/>\n</g>\n<!-- ta2_0 -->\n<g id=\"node8\" class=\"node\">\n<title>ta2_0</title>\n<g id=\"a_node8\"><a xlink:href=\"https://lale.readthedocs.io/en/latest/modules/lale.lib.autoai_libs.ta2.html\" xlink:title=\"ta2_0 = TA2(fun=np.multiply, name=&#39;product&#39;, datatypes1=[&#39;intc&#39;, &#39;intp&#39;, &#39;int_&#39;, &#39;uint8&#39;, &#39;uint16&#39;, &#39;uint32&#39;, &#39;uint64&#39;, &#39;int8&#39;, &#39;int16&#39;, &#39;int32&#39;, &#39;int64&#39;, &#39;short&#39;, &#39;long&#39;, &#39;longlong&#39;, &#39;float16&#39;, &#39;float32&#39;, &#39;float64&#39;], feat_constraints1=[autoai_libs.utils.fc_method...)\">\n<ellipse fill=\"#ffffff\" stroke=\"#000000\" cx=\"831.9575\" cy=\"-120\" rx=\"27\" ry=\"18\"/>\n<text text-anchor=\"middle\" x=\"831.9575\" y=\"-117.2\" font-family=\"Times,serif\" font-size=\"11.00\" fill=\"#000000\">TA2</text>\n</a>\n</g>\n</g>\n<!-- float32_transform&#45;&gt;ta2_0 -->\n<g id=\"edge7\" class=\"edge\">\n<title>float32_transform&#45;&gt;ta2_0</title>\n<path fill=\"none\" stroke=\"#000000\" d=\"M768.9852,-120C777.5402,-120 786.3982,-120 794.673,-120\"/>\n<polygon fill=\"#000000\" stroke=\"#000000\" points=\"794.7756,-123.5001 804.7756,-120 794.7756,-116.5001 794.7756,-123.5001\"/>\n</g>\n<!-- fs1_0 -->\n<g id=\"node9\" class=\"node\">\n<title>fs1_0</title>\n<g id=\"a_node9\"><a xlink:href=\"https://lale.readthedocs.io/en/latest/modules/lale.lib.autoai_libs.fs1.html\" xlink:title=\"fs1_0 = FS1(cols_ids_must_keep=range(0, 8), additional_col_count_to_keep=8, ptype=&#39;regression&#39;)\">\n<ellipse fill=\"#ffffff\" stroke=\"#000000\" cx=\"921.9575\" cy=\"-120\" rx=\"27\" ry=\"18\"/>\n<text text-anchor=\"middle\" x=\"921.9575\" y=\"-117.2\" font-family=\"Times,serif\" font-size=\"11.00\" fill=\"#000000\">FS1</text>\n</a>\n</g>\n</g>\n<!-- ta2_0&#45;&gt;fs1_0 -->\n<g id=\"edge8\" class=\"edge\">\n<title>ta2_0&#45;&gt;fs1_0</title>\n<path fill=\"none\" stroke=\"#000000\" d=\"M858.9605,-120C866.9852,-120 875.924,-120 884.4884,-120\"/>\n<polygon fill=\"#000000\" stroke=\"#000000\" points=\"884.6626,-123.5001 894.6625,-120 884.6625,-116.5001 884.6626,-123.5001\"/>\n</g>\n<!-- ta2_1 -->\n<g id=\"node10\" class=\"node\">\n<title>ta2_1</title>\n<g id=\"a_node10\"><a xlink:href=\"https://lale.readthedocs.io/en/latest/modules/lale.lib.autoai_libs.ta2.html\" xlink:title=\"ta2_1 = TA2(fun=np.true_divide, name=&#39;divide&#39;, datatypes1=[&#39;intc&#39;, &#39;intp&#39;, &#39;int_&#39;, &#39;uint8&#39;, &#39;uint16&#39;, &#39;uint32&#39;, &#39;uint64&#39;, &#39;int8&#39;, &#39;int16&#39;, &#39;int32&#39;, &#39;int64&#39;, &#39;short&#39;, &#39;long&#39;, &#39;longlong&#39;, &#39;float16&#39;, &#39;float32&#39;, &#39;float64&#39;], feat_constraints1=[autoai_libs.utils.fc_meth...)\">\n<ellipse fill=\"#ffffff\" stroke=\"#000000\" cx=\"1011.9575\" cy=\"-120\" rx=\"27\" ry=\"18\"/>\n<text text-anchor=\"middle\" x=\"1011.9575\" y=\"-117.2\" font-family=\"Times,serif\" font-size=\"11.00\" fill=\"#000000\">TA2</text>\n</a>\n</g>\n</g>\n<!-- fs1_0&#45;&gt;ta2_1 -->\n<g id=\"edge9\" class=\"edge\">\n<title>fs1_0&#45;&gt;ta2_1</title>\n<path fill=\"none\" stroke=\"#000000\" d=\"M948.9605,-120C956.9852,-120 965.924,-120 974.4884,-120\"/>\n<polygon fill=\"#000000\" stroke=\"#000000\" points=\"974.6626,-123.5001 984.6625,-120 974.6625,-116.5001 974.6626,-123.5001\"/>\n</g>\n<!-- fs1_1 -->\n<g id=\"node11\" class=\"node\">\n<title>fs1_1</title>\n<g id=\"a_node11\"><a xlink:href=\"https://lale.readthedocs.io/en/latest/modules/lale.lib.autoai_libs.fs1.html\" xlink:title=\"fs1_1 = FS1(cols_ids_must_keep=range(0, 8), additional_col_count_to_keep=8, ptype=&#39;regression&#39;)\">\n<ellipse fill=\"#ffffff\" stroke=\"#000000\" cx=\"1101.9575\" cy=\"-120\" rx=\"27\" ry=\"18\"/>\n<text text-anchor=\"middle\" x=\"1101.9575\" y=\"-117.2\" font-family=\"Times,serif\" font-size=\"11.00\" fill=\"#000000\">FS1</text>\n</a>\n</g>\n</g>\n<!-- ta2_1&#45;&gt;fs1_1 -->\n<g id=\"edge10\" class=\"edge\">\n<title>ta2_1&#45;&gt;fs1_1</title>\n<path fill=\"none\" stroke=\"#000000\" d=\"M1038.9605,-120C1046.9852,-120 1055.924,-120 1064.4884,-120\"/>\n<polygon fill=\"#000000\" stroke=\"#000000\" points=\"1064.6626,-123.5001 1074.6625,-120 1064.6625,-116.5001 1064.6626,-123.5001\"/>\n</g>\n<!-- e1 -->\n<g id=\"node12\" class=\"node\">\n<title>e1</title>\n<g id=\"a_node12\"><a xlink:href=\"https://lale.readthedocs.io/en/latest/modules/lale.lib.sklearn.linear_regression.html\" xlink:title=\"e1 = E1\">\n<ellipse fill=\"#7ec0ee\" stroke=\"#000000\" cx=\"1191.9575\" cy=\"-120\" rx=\"27\" ry=\"18\"/>\n<text text-anchor=\"middle\" x=\"1191.9575\" y=\"-117.2\" font-family=\"Times,serif\" font-size=\"11.00\" fill=\"#000000\">E1</text>\n</a>\n</g>\n</g>\n<!-- fs1_1&#45;&gt;e1 -->\n<g id=\"edge11\" class=\"edge\">\n<title>fs1_1&#45;&gt;e1</title>\n<path fill=\"none\" stroke=\"#000000\" d=\"M1128.9605,-120C1136.9852,-120 1145.924,-120 1154.4884,-120\"/>\n<polygon fill=\"#000000\" stroke=\"#000000\" points=\"1146.9576,-123.5004 1156.9575,-120 1146.9574,-116.5004 1146.9576,-123.5004\"/>\n</g>\n<!-- e2 -->\n<g id=\"node13\" class=\"node\">\n<title>e2</title>\n<g id=\"a_node13\"><a xlink:href=\"https://lale.readthedocs.io/en/latest/modules/lale.lib.sklearn.decision_tree_regressor.html\" xlink:title=\"e2 = E2\">\n<ellipse fill=\"#7ec0ee\" stroke=\"#000000\" cx=\"1191.9575\" cy=\"-77\" rx=\"27\" ry=\"18\"/>\n<text text-anchor=\"middle\" x=\"1191.9575\" y=\"-74.2\" font-family=\"Times,serif\" font-size=\"11.00\" fill=\"#000000\">E2</text>\n</a>\n</g>\n</g>\n<!-- e3 -->\n<g id=\"node14\" class=\"node\">\n<title>e3</title>\n<g id=\"a_node14\"><a xlink:href=\"https://lale.readthedocs.io/en/latest/modules/lale.lib.sklearn.k_neighbors_regressor.html\" xlink:title=\"e3 = E3\">\n<ellipse fill=\"#7ec0ee\" stroke=\"#000000\" cx=\"1191.9575\" cy=\"-34\" rx=\"27\" ry=\"18\"/>\n<text text-anchor=\"middle\" x=\"1191.9575\" y=\"-31.2\" font-family=\"Times,serif\" font-size=\"11.00\" fill=\"#000000\">E3</text>\n</a>\n</g>\n</g>\n</g>\n</svg>\n",
                        "text/plain": "<graphviz.dot.Digraph at 0x7f776d1959b0>"
                    },
                    "metadata": {},
                    "output_type": "display_data"
                }
            ],
            "source": "new_pipeline = prefix >> (E1 | E2 | E3)\nnew_pipeline.visualize()"
        },
        {
            "cell_type": "markdown",
            "metadata": {
                "pycharm": {
                    "name": "#%% md\n"
                }
            },
            "source": "<a id=\"new_optimizer\"></a>\n#### New optimizer `hyperopt` configuration and training\n\nThis section can introduce other results than the original one and it should be used\nby more advanced users.\n\nNew pipeline is re-trained by passing train data to it and calling `fit` method.\n\nFollowing cell performs dataset split for refined pipeline model."
        },
        {
            "cell_type": "code",
            "execution_count": 18,
            "metadata": {
                "pycharm": {
                    "name": "#%%\n"
                }
            },
            "outputs": [],
            "source": "from sklearn.model_selection import train_test_split\n\ntrain_X = train_df.drop([experiment_metadata['prediction_column']], axis=1).values\ntrain_y = train_df[experiment_metadata['prediction_column']].values\n\ntrain_X, test_X, train_y, test_y = train_test_split(train_X, train_y, test_size=experiment_metadata['test_size'],\n                                                    random_state=experiment_metadata['random_state'])"
        },
        {
            "cell_type": "code",
            "execution_count": 19,
            "metadata": {
                "pycharm": {
                    "name": "#%%\n"
                }
            },
            "outputs": [
                {
                    "name": "stdout",
                    "output_type": "stream",
                    "text": "100%|\u2588\u2588\u2588\u2588\u2588\u2588\u2588\u2588\u2588\u2588| 20/20 [01:28<00:00,  4.39s/trial, best loss: -0.9987936806874048]\n"
                }
            ],
            "source": "hyperopt = Hyperopt(estimator=new_pipeline, cv=3, max_evals=20, scoring='r2')\nfitted_hyperopt = hyperopt.fit(train_X, train_y)"
        },
        {
            "cell_type": "code",
            "execution_count": 20,
            "metadata": {
                "pycharm": {
                    "name": "#%%\n"
                }
            },
            "outputs": [],
            "source": "hyperopt_pipeline = fitted_hyperopt.get_pipeline()\nnew_pipeline = hyperopt_pipeline.export_to_sklearn_pipeline()"
        },
        {
            "cell_type": "code",
            "execution_count": 21,
            "metadata": {
                "pycharm": {
                    "name": "#%%\n"
                }
            },
            "outputs": [],
            "source": "prediction = new_pipeline.predict(test_X)"
        },
        {
            "cell_type": "code",
            "execution_count": 22,
            "metadata": {
                "pycharm": {
                    "name": "#%%\n"
                }
            },
            "outputs": [
                {
                    "name": "stdout",
                    "output_type": "stream",
                    "text": "r2_score:  0.9977553319597785\n"
                }
            ],
            "source": "from sklearn.metrics import r2_score\n\nscore = r2_score(y_true=test_y, y_pred=prediction)\nprint('r2_score: ', score)"
        },
        {
            "cell_type": "markdown",
            "metadata": {
                "pycharm": {
                    "name": "#%% md\n"
                }
            },
            "source": "<a id=\"scoring\"></a>\n## Deploy and Score\n\nIn this section you will learn how to deploy and score pipeline model as webservice using WML instance."
        },
        {
            "cell_type": "markdown",
            "metadata": {},
            "source": "<a id=\"wml_credentials\"></a>\n### Connect to WML client in order to create deployment\n**Action:** Next you will need credentials for Watson Machine Learning and training run_id:\n - go to [Cloud catalog resources list](https://cloud.ibm.com/resources)\n - click on Services and chose Machine Learning service. Once you are there\n - click the **Service Credentials** link on the left side of the screen\n - click to expand specific credentials name.\n - copy and paste your WML credentials into the cell below\n\n*Take in mind that WML Service instance should be the same as used to generate this notebook.*"
        },
        {
            "cell_type": "code",
            "execution_count": 23,
            "metadata": {
                "pycharm": {
                    "name": "#%%\n"
                }
            },
            "outputs": [],
            "source": "# The code was removed by Watson Studio for sharing."
        },
        {
            "cell_type": "markdown",
            "metadata": {},
            "source": "<a id=\"deployment\"></a>\n\n### Create deployment\n **Action**: If you want to deploy refined pipeline please change the `pipeline_model` to\n`new_pipeline`.\nIf you prefer you can also change the `deployment_name`."
        },
        {
            "cell_type": "code",
            "execution_count": 24,
            "metadata": {
                "pycharm": {
                    "name": "#%%\n"
                }
            },
            "outputs": [
                {
                    "name": "stdout",
                    "output_type": "stream",
                    "text": "Preparing an AutoAI Deployment...\nPublished model uid: 44c250cb-2c56-4e7b-baf9-88a5a001d155\nDeploying model 44c250cb-2c56-4e7b-baf9-88a5a001d155 using V4 client.\n\n\n#######################################################################################\n\nSynchronous deployment creation for uid: '44c250cb-2c56-4e7b-baf9-88a5a001d155' started\n\n#######################################################################################\n\n\ninitializing........\nready\n\n\n------------------------------------------------------------------------------------------------\nSuccessfully finished deployment creation, deployment_uid='ad75ba87-62f2-4524-9dfb-446c085329b6'\n------------------------------------------------------------------------------------------------\n\n\n"
                }
            ],
            "source": "from watson_machine_learning_client.deployment import WebService\n\n\nservice = WebService(wml_credentials)\nservice.create(\n    model=pipeline_model,\n    metadata=experiment_metadata,\n    deployment_name=f'{pipeline_name}_webservice'\n)"
        },
        {
            "cell_type": "markdown",
            "metadata": {},
            "source": "Deployment object could be printed to show basic information:"
        },
        {
            "cell_type": "code",
            "execution_count": 25,
            "metadata": {
                "pycharm": {
                    "name": "#%%\n"
                }
            },
            "outputs": [
                {
                    "name": "stdout",
                    "output_type": "stream",
                    "text": "name: Pipeline_4_webservice, id: ad75ba87-62f2-4524-9dfb-446c085329b6, scoring_url: https://jp-tok.ml.cloud.ibm.com/v4/deployments/ad75ba87-62f2-4524-9dfb-446c085329b6/predictions, asset_id: 44c250cb-2c56-4e7b-baf9-88a5a001d155\n"
                }
            ],
            "source": "print(service)"
        },
        {
            "cell_type": "markdown",
            "metadata": {},
            "source": "To be able to show all available information about deployment use `.get_params()` method:"
        },
        {
            "cell_type": "code",
            "execution_count": 26,
            "metadata": {
                "pycharm": {
                    "name": "#%%\n"
                }
            },
            "outputs": [
                {
                    "data": {
                        "text/plain": "{'entity': {'asset': {'href': '/v4/models/44c250cb-2c56-4e7b-baf9-88a5a001d155?rev=b81f3a32-f0e5-43dc-8ad3-89bdd036174f',\n   'id': '44c250cb-2c56-4e7b-baf9-88a5a001d155',\n   'rev': 'b81f3a32-f0e5-43dc-8ad3-89bdd036174f'},\n  'custom': {},\n  'description': '',\n  'name': 'Pipeline_4_webservice',\n  'online': {},\n  'status': {'online_url': {'url': 'https://jp-tok.ml.cloud.ibm.com/v4/deployments/ad75ba87-62f2-4524-9dfb-446c085329b6/predictions'},\n   'state': 'ready'}},\n 'metadata': {'created_at': '2020-08-26T18:47:27.300Z',\n  'description': '',\n  'guid': 'ad75ba87-62f2-4524-9dfb-446c085329b6',\n  'href': '/v4/deployments/ad75ba87-62f2-4524-9dfb-446c085329b6',\n  'id': 'ad75ba87-62f2-4524-9dfb-446c085329b6',\n  'modified_at': '2020-08-26T18:47:27.300Z',\n  'name': 'Pipeline_4_webservice',\n  'parent': {'href': ''}}}"
                    },
                    "execution_count": 26,
                    "metadata": {},
                    "output_type": "execute_result"
                }
            ],
            "source": "service.get_params()"
        },
        {
            "cell_type": "markdown",
            "metadata": {
                "pycharm": {
                    "name": "#%% md\n"
                }
            },
            "source": "<a id=\"online_scoring\"></a>\n### Score webservice\nYou can make scoring request by calling `score()` on deployed pipeline."
        },
        {
            "cell_type": "code",
            "execution_count": 27,
            "metadata": {
                "pycharm": {
                    "name": "#%%\n"
                }
            },
            "outputs": [
                {
                    "data": {
                        "text/plain": "{'predictions': [{'fields': ['prediction'],\n   'values': [[0.22992661595344543],\n    [0.30047667026519775],\n    [0.1100502610206604],\n    [0.24948954582214355],\n    [0.19147509336471558]]}]}"
                    },
                    "execution_count": 27,
                    "metadata": {},
                    "output_type": "execute_result"
                }
            ],
            "source": "predictions = service.score(payload=test_df)\npredictions"
        },
        {
            "cell_type": "markdown",
            "metadata": {},
            "source": "If you want to work with the webservice in external Python application you can retrieve the service object by:\n - initialize service by `service = WebService(wml_credentials)`\n - get deployment_id by `service.list()` method\n - get webservice object by `service.get('deployment_id')` method\n\nAfter that you can call `service.score()` method."
        },
        {
            "cell_type": "code",
            "execution_count": 28,
            "metadata": {},
            "outputs": [
                {
                    "data": {
                        "text/html": "<div>\n<style scoped>\n    .dataframe tbody tr th:only-of-type {\n        vertical-align: middle;\n    }\n\n    .dataframe tbody tr th {\n        vertical-align: top;\n    }\n\n    .dataframe thead th {\n        text-align: right;\n    }\n</style>\n<table border=\"1\" class=\"dataframe\">\n  <thead>\n    <tr style=\"text-align: right;\">\n      <th></th>\n      <th>NUMBER</th>\n      <th>K</th>\n      <th>T</th>\n      <th>API</th>\n      <th>Pi</th>\n      <th>Uoi, cp</th>\n      <th>Rsi</th>\n      <th>OOIP</th>\n      <th>Produced</th>\n      <th>RF</th>\n    </tr>\n  </thead>\n  <tbody>\n    <tr>\n      <th>0</th>\n      <td>10</td>\n      <td>379.0</td>\n      <td>203</td>\n      <td>43.0</td>\n      <td>3425</td>\n      <td>0.92</td>\n      <td>256</td>\n      <td>915</td>\n      <td>179</td>\n      <td>0.20</td>\n    </tr>\n    <tr>\n      <th>1</th>\n      <td>11</td>\n      <td>35.0</td>\n      <td>135</td>\n      <td>47.0</td>\n      <td>2230</td>\n      <td>0.31</td>\n      <td>663</td>\n      <td>180</td>\n      <td>45</td>\n      <td>0.25</td>\n    </tr>\n    <tr>\n      <th>2</th>\n      <td>12</td>\n      <td>3.0</td>\n      <td>108</td>\n      <td>43.0</td>\n      <td>3000</td>\n      <td>0.38</td>\n      <td>1120</td>\n      <td>305</td>\n      <td>56</td>\n      <td>0.18</td>\n    </tr>\n    <tr>\n      <th>3</th>\n      <td>56</td>\n      <td>26.6</td>\n      <td>115</td>\n      <td>42.0</td>\n      <td>1400</td>\n      <td>1.00</td>\n      <td>420</td>\n      <td>595</td>\n      <td>119</td>\n      <td>0.20</td>\n    </tr>\n    <tr>\n      <th>4</th>\n      <td>57</td>\n      <td>16.0</td>\n      <td>104</td>\n      <td>30.0</td>\n      <td>3000</td>\n      <td>3.00</td>\n      <td>377</td>\n      <td>625</td>\n      <td>78</td>\n      <td>0.12</td>\n    </tr>\n  </tbody>\n</table>\n</div>",
                        "text/plain": "   NUMBER      K    T   API    Pi  Uoi, cp   Rsi  OOIP  Produced    RF\n0      10  379.0  203  43.0  3425     0.92   256   915       179  0.20\n1      11   35.0  135  47.0  2230     0.31   663   180        45  0.25\n2      12    3.0  108  43.0  3000     0.38  1120   305        56  0.18\n3      56   26.6  115  42.0  1400     1.00   420   595       119  0.20\n4      57   16.0  104  30.0  3000     3.00   377   625        78  0.12"
                    },
                    "execution_count": 28,
                    "metadata": {},
                    "output_type": "execute_result"
                }
            ],
            "source": "# The code was removed by Watson Studio for sharing."
        },
        {
            "cell_type": "code",
            "execution_count": 37,
            "metadata": {},
            "outputs": [
                {
                    "name": "stdout",
                    "output_type": "stream",
                    "text": "Scoring response\n{'trace': '41f2b25777dbd36720b0d14eb4f37c12', 'errors': [{'code': 'invalid_payload', 'message': 'Scoring payload field `values` is not in valid format. Excepted format is Multidimensional Json Array'}]}\n"
                }
            ],
            "source": "import urllib3, requests, json\n\n# Get an IAM token from IBM Cloud\nurl     = \"https://iam.bluemix.net/oidc/token\"\nheaders = { \"Content-Type\" : \"application/x-www-form-urlencoded\" }\ndata    = \"apikey=\" + wml_credentials[\"apikey\"] + \"&grant_type=urn:ibm:params:oauth:grant-type:apikey\"\nIBM_cloud_iam_uid = \"bx\"\nIBM_cloud_iam_pwd = \"bx\"\nresponse  = requests.post( url, headers=headers, data=data, auth=( IBM_cloud_iam_uid, IBM_cloud_iam_pwd ) )\n\nif 200 != response.status_code:\n    print( response.status_code )\n    print( response.reason )\nelse:\n    iam_token = response.json()[\"access_token\"]\n    \n# NOTE: generate iam_token and retrieve ml_instance_id based on provided documentation\t\nheader = {'Content-Type': 'application/json', 'Authorization': 'Bearer ' + iam_token, 'ML-Instance-ID': wml_credentials[\"instance_id\"]}\n\n# NOTE: manually define and pass the array(s) of values to be scored in the next line\npayload_scoring = {\"input_data\": [{\"fields\": [\"NUMBER\", \"K\", \"T\", \"API\", \"Pi\", \"Uoi, cp\", \"Rsi\", \"OOIP\", \"Produced\"], \"values\": [\"RF\"]}]}\n\nresponse_scoring = requests.post('https://jp-tok.ml.cloud.ibm.com/v4/deployments/ffc17796-a464-4dd7-879d-05a1cf2ad482/predictions', json=payload_scoring, headers=header)\nprint(\"Scoring response\")\nprint(json.loads(response_scoring.text))"
        },
        {
            "cell_type": "code",
            "execution_count": 48,
            "metadata": {},
            "outputs": [
                {
                    "name": "stdout",
                    "output_type": "stream",
                    "text": "{'predictions': [{'fields': ['prediction'], 'values': [[0.19919219613075256], [0.2498520314693451], [0.18996736407279968], [0.20020869374275208], [0.12990379333496094], [0.19924426078796387], [0.1896670162677765], [0.15996813774108887], [0.1898047924041748], [0.16004785895347595], [0.17932626605033875], [0.3093310296535492], [0.16996201872825623], [0.22989964485168457], [0.17998358607292175], [0.21012753248214722], [0.24948954582214355], [0.17013779282569885], [0.22989964485168457], [0.1899050772190094]]}]}\n"
                }
            ],
            "source": "predictions = service.score(payload=df_data_1)\nprint (predictions)"
        },
        {
            "cell_type": "code",
            "execution_count": 56,
            "metadata": {},
            "outputs": [],
            "source": "# Define a dictionary containing Predictions \n\nNew_RF ={'values': [0.19919219613075256, 0.2498520314693451, 0.18996736407279968, 0.20020869374275208, 0.12990379333496094, 0.19924426078796387, 0.1896670162677765, 0.15996813774108887, 0.1898047924041748, 0.16004785895347595, 0.17932626605033875, 0.3093310296535492, 0.16996201872825623, 0.22989964485168457, 0.17998358607292175, 0.21012753248214722, 0.24948954582214355, 0.17013779282569885, 0.22989964485168457, 0.1899050772190094]}\ndf = pd.DataFrame(New_RF)"
        },
        {
            "cell_type": "code",
            "execution_count": 57,
            "metadata": {},
            "outputs": [],
            "source": "df_data_1['NewRF'] = df"
        },
        {
            "cell_type": "code",
            "execution_count": 58,
            "metadata": {},
            "outputs": [
                {
                    "data": {
                        "text/html": "<div>\n<style scoped>\n    .dataframe tbody tr th:only-of-type {\n        vertical-align: middle;\n    }\n\n    .dataframe tbody tr th {\n        vertical-align: top;\n    }\n\n    .dataframe thead th {\n        text-align: right;\n    }\n</style>\n<table border=\"1\" class=\"dataframe\">\n  <thead>\n    <tr style=\"text-align: right;\">\n      <th></th>\n      <th>NUMBER</th>\n      <th>K</th>\n      <th>T</th>\n      <th>API</th>\n      <th>Pi</th>\n      <th>Uoi, cp</th>\n      <th>Rsi</th>\n      <th>OOIP</th>\n      <th>Produced</th>\n      <th>RF</th>\n      <th>NewRF</th>\n    </tr>\n  </thead>\n  <tbody>\n    <tr>\n      <th>0</th>\n      <td>10</td>\n      <td>379.0</td>\n      <td>203</td>\n      <td>43.0</td>\n      <td>3425</td>\n      <td>0.92</td>\n      <td>256</td>\n      <td>915</td>\n      <td>179</td>\n      <td>0.20</td>\n      <td>0.199192</td>\n    </tr>\n    <tr>\n      <th>1</th>\n      <td>11</td>\n      <td>35.0</td>\n      <td>135</td>\n      <td>47.0</td>\n      <td>2230</td>\n      <td>0.31</td>\n      <td>663</td>\n      <td>180</td>\n      <td>45</td>\n      <td>0.25</td>\n      <td>0.249852</td>\n    </tr>\n    <tr>\n      <th>2</th>\n      <td>12</td>\n      <td>3.0</td>\n      <td>108</td>\n      <td>43.0</td>\n      <td>3000</td>\n      <td>0.38</td>\n      <td>1120</td>\n      <td>305</td>\n      <td>56</td>\n      <td>0.18</td>\n      <td>0.189967</td>\n    </tr>\n    <tr>\n      <th>3</th>\n      <td>56</td>\n      <td>26.6</td>\n      <td>115</td>\n      <td>42.0</td>\n      <td>1400</td>\n      <td>1.00</td>\n      <td>420</td>\n      <td>595</td>\n      <td>119</td>\n      <td>0.20</td>\n      <td>0.200209</td>\n    </tr>\n    <tr>\n      <th>4</th>\n      <td>57</td>\n      <td>16.0</td>\n      <td>104</td>\n      <td>30.0</td>\n      <td>3000</td>\n      <td>3.00</td>\n      <td>377</td>\n      <td>625</td>\n      <td>78</td>\n      <td>0.12</td>\n      <td>0.129904</td>\n    </tr>\n    <tr>\n      <th>5</th>\n      <td>58</td>\n      <td>10.3</td>\n      <td>120</td>\n      <td>45.0</td>\n      <td>2170</td>\n      <td>0.35</td>\n      <td>918</td>\n      <td>345</td>\n      <td>68</td>\n      <td>0.20</td>\n      <td>0.199244</td>\n    </tr>\n    <tr>\n      <th>6</th>\n      <td>59</td>\n      <td>1.0</td>\n      <td>182</td>\n      <td>39.0</td>\n      <td>2760</td>\n      <td>0.27</td>\n      <td>850</td>\n      <td>172</td>\n      <td>32</td>\n      <td>0.19</td>\n      <td>0.189667</td>\n    </tr>\n    <tr>\n      <th>7</th>\n      <td>60</td>\n      <td>5.1</td>\n      <td>190</td>\n      <td>38.0</td>\n      <td>2912</td>\n      <td>0.45</td>\n      <td>800</td>\n      <td>312</td>\n      <td>49</td>\n      <td>0.16</td>\n      <td>0.159968</td>\n    </tr>\n    <tr>\n      <th>8</th>\n      <td>61</td>\n      <td>6.5</td>\n      <td>172</td>\n      <td>40.0</td>\n      <td>2748</td>\n      <td>0.29</td>\n      <td>1236</td>\n      <td>170</td>\n      <td>32</td>\n      <td>0.19</td>\n      <td>0.189805</td>\n    </tr>\n    <tr>\n      <th>9</th>\n      <td>62</td>\n      <td>16.1</td>\n      <td>114</td>\n      <td>36.0</td>\n      <td>1800</td>\n      <td>1.89</td>\n      <td>800</td>\n      <td>324</td>\n      <td>51</td>\n      <td>0.16</td>\n      <td>0.160048</td>\n    </tr>\n    <tr>\n      <th>10</th>\n      <td>96</td>\n      <td>91.0</td>\n      <td>251</td>\n      <td>41.0</td>\n      <td>4904</td>\n      <td>0.24</td>\n      <td>1335</td>\n      <td>380</td>\n      <td>68</td>\n      <td>0.18</td>\n      <td>0.179326</td>\n    </tr>\n    <tr>\n      <th>11</th>\n      <td>97</td>\n      <td>300.0</td>\n      <td>206</td>\n      <td>26.8</td>\n      <td>3145</td>\n      <td>3.27</td>\n      <td>103</td>\n      <td>1401</td>\n      <td>420</td>\n      <td>0.30</td>\n      <td>0.309331</td>\n    </tr>\n    <tr>\n      <th>12</th>\n      <td>98</td>\n      <td>200.0</td>\n      <td>210</td>\n      <td>32.5</td>\n      <td>3115</td>\n      <td>1.27</td>\n      <td>353</td>\n      <td>1140</td>\n      <td>190</td>\n      <td>0.17</td>\n      <td>0.169962</td>\n    </tr>\n    <tr>\n      <th>13</th>\n      <td>99</td>\n      <td>15.0</td>\n      <td>200</td>\n      <td>37.0</td>\n      <td>3925</td>\n      <td>0.54</td>\n      <td>909</td>\n      <td>328</td>\n      <td>77</td>\n      <td>0.23</td>\n      <td>0.229900</td>\n    </tr>\n    <tr>\n      <th>14</th>\n      <td>100</td>\n      <td>21.5</td>\n      <td>131</td>\n      <td>40.0</td>\n      <td>1720</td>\n      <td>0.50</td>\n      <td>550</td>\n      <td>537</td>\n      <td>98</td>\n      <td>0.18</td>\n      <td>0.179984</td>\n    </tr>\n    <tr>\n      <th>15</th>\n      <td>101</td>\n      <td>57.0</td>\n      <td>122</td>\n      <td>39.9</td>\n      <td>1480</td>\n      <td>0.55</td>\n      <td>635</td>\n      <td>654</td>\n      <td>137</td>\n      <td>0.21</td>\n      <td>0.210128</td>\n    </tr>\n    <tr>\n      <th>16</th>\n      <td>125</td>\n      <td>31.0</td>\n      <td>110</td>\n      <td>39.0</td>\n      <td>600</td>\n      <td>1.40</td>\n      <td>240</td>\n      <td>714</td>\n      <td>184</td>\n      <td>0.26</td>\n      <td>0.249490</td>\n    </tr>\n    <tr>\n      <th>17</th>\n      <td>126</td>\n      <td>35.0</td>\n      <td>170</td>\n      <td>43.0</td>\n      <td>2082</td>\n      <td>0.45</td>\n      <td>890</td>\n      <td>507</td>\n      <td>86</td>\n      <td>0.17</td>\n      <td>0.170138</td>\n    </tr>\n    <tr>\n      <th>18</th>\n      <td>127</td>\n      <td>24.0</td>\n      <td>170</td>\n      <td>40.0</td>\n      <td>2000</td>\n      <td>0.39</td>\n      <td>710</td>\n      <td>532</td>\n      <td>125</td>\n      <td>0.23</td>\n      <td>0.229900</td>\n    </tr>\n    <tr>\n      <th>19</th>\n      <td>128</td>\n      <td>249.0</td>\n      <td>227</td>\n      <td>35.0</td>\n      <td>4804</td>\n      <td>0.72</td>\n      <td>690</td>\n      <td>1400</td>\n      <td>270</td>\n      <td>0.19</td>\n      <td>0.189905</td>\n    </tr>\n  </tbody>\n</table>\n</div>",
                        "text/plain": "    NUMBER      K    T   API    Pi  Uoi, cp   Rsi  OOIP  Produced    RF  \\\n0       10  379.0  203  43.0  3425     0.92   256   915       179  0.20   \n1       11   35.0  135  47.0  2230     0.31   663   180        45  0.25   \n2       12    3.0  108  43.0  3000     0.38  1120   305        56  0.18   \n3       56   26.6  115  42.0  1400     1.00   420   595       119  0.20   \n4       57   16.0  104  30.0  3000     3.00   377   625        78  0.12   \n5       58   10.3  120  45.0  2170     0.35   918   345        68  0.20   \n6       59    1.0  182  39.0  2760     0.27   850   172        32  0.19   \n7       60    5.1  190  38.0  2912     0.45   800   312        49  0.16   \n8       61    6.5  172  40.0  2748     0.29  1236   170        32  0.19   \n9       62   16.1  114  36.0  1800     1.89   800   324        51  0.16   \n10      96   91.0  251  41.0  4904     0.24  1335   380        68  0.18   \n11      97  300.0  206  26.8  3145     3.27   103  1401       420  0.30   \n12      98  200.0  210  32.5  3115     1.27   353  1140       190  0.17   \n13      99   15.0  200  37.0  3925     0.54   909   328        77  0.23   \n14     100   21.5  131  40.0  1720     0.50   550   537        98  0.18   \n15     101   57.0  122  39.9  1480     0.55   635   654       137  0.21   \n16     125   31.0  110  39.0   600     1.40   240   714       184  0.26   \n17     126   35.0  170  43.0  2082     0.45   890   507        86  0.17   \n18     127   24.0  170  40.0  2000     0.39   710   532       125  0.23   \n19     128  249.0  227  35.0  4804     0.72   690  1400       270  0.19   \n\n       NewRF  \n0   0.199192  \n1   0.249852  \n2   0.189967  \n3   0.200209  \n4   0.129904  \n5   0.199244  \n6   0.189667  \n7   0.159968  \n8   0.189805  \n9   0.160048  \n10  0.179326  \n11  0.309331  \n12  0.169962  \n13  0.229900  \n14  0.179984  \n15  0.210128  \n16  0.249490  \n17  0.170138  \n18  0.229900  \n19  0.189905  "
                    },
                    "execution_count": 58,
                    "metadata": {},
                    "output_type": "execute_result"
                }
            ],
            "source": "df_data_1.head(20)"
        },
        {
            "cell_type": "code",
            "execution_count": 59,
            "metadata": {},
            "outputs": [
                {
                    "name": "stdout",
                    "output_type": "stream",
                    "text": "r2_score:  0.9871355472260656\n"
                }
            ],
            "source": "score = r2_score(y_true=df_data_1['RF'], y_pred=df_data_1['NewRF'])\nprint('r2_score: ', score)"
        },
        {
            "cell_type": "markdown",
            "metadata": {
                "pycharm": {
                    "name": "#%% md\n"
                }
            },
            "source": "<a id=\"delete_deployment\"></a>\n### Delete deployment\n\nYou can delete an existing deployment by calling `service.delete()`."
        },
        {
            "cell_type": "markdown",
            "metadata": {
                "pycharm": {
                    "name": "#%% md\n"
                }
            },
            "source": "<a id=\"authors\"></a>\n### Author: Daniel Asante Otchere\nDaniel is currently a PhD student at the Universiti Teknologi PETRONAS in Malaysia undertaking research in petroleum engineering, enhanced oil recovery.  He has a masters degree in petroleum geoscience from the University of Manchester and is highly interested in the application of AI in the petroleum industry largely due to the large amount of complex data in the industry. He sees the application of data analysis and machine learning to be a way to utilise all available data to their full potential for the understanding of the subsurface thereby making it easier for companies to reduce the costs involved in gathering data and investing in training of their human resources in the field of AI.\n\nLicensed Materials - Copyright \u00a9 2020 IBM. This notebook and its source code are released under the terms of the ILAN License.\nUse, duplication disclosure restricted by GSA ADP Schedule Contract with IBM Corp.\n\n**Note:** The auto-generated notebooks are subject to the International License Agreement for Non-Warranted Programs  \n(or equivalent) and License Information document for Watson Studio Auto-generated Notebook (License Terms),  \nsuch agreements located in the link below. Specifically, the Source Components and Sample Materials clause  \nincluded in the License Information document for Watson Studio Auto-generated Notebook applies to the auto-generated notebooks.  \n\nBy downloading, copying, accessing, or otherwise using the materials, you agree to the <a href=\"http://www14.software.ibm.com/cgi-bin/weblap/lap.pl?li_formnum=L-AMCU-BHU2B7&title=IBM%20Watson%20Studio%20Auto-generated%20Notebook%20V2.1\">License Terms</a>  \n\n___"
        }
    ],
    "metadata": {
        "kernelspec": {
            "display_name": "Python 3.6",
            "language": "python",
            "name": "python3"
        },
        "language_info": {
            "codemirror_mode": {
                "name": "ipython",
                "version": 3
            },
            "file_extension": ".py",
            "mimetype": "text/x-python",
            "name": "python",
            "nbconvert_exporter": "python",
            "pygments_lexer": "ipython3",
            "version": "3.6.9"
        }
    },
    "nbformat": 4,
    "nbformat_minor": 2
}